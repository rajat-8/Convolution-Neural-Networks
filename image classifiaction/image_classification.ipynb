{
 "cells": [
  {
   "cell_type": "markdown",
   "metadata": {
    "collapsed": true
   },
   "source": [
    "# Image Classification\n",
    "In this project, you'll classify images from the [CIFAR-10 dataset](https://www.cs.toronto.edu/~kriz/cifar.html).  The dataset consists of airplanes, dogs, cats, and other objects. You'll preprocess the images, then train a convolutional neural network on all the samples. The images need to be normalized and the labels need to be one-hot encoded.  You'll get to apply what you learned and build a convolutional, max pooling, dropout, and fully connected layers.  At the end, you'll get to see your neural network's predictions on the sample images.\n",
    "## Get the Data\n",
    "Run the following cell to download the [CIFAR-10 dataset for python](https://www.cs.toronto.edu/~kriz/cifar-10-python.tar.gz)."
   ]
  },
  {
   "cell_type": "code",
   "execution_count": 1,
   "metadata": {},
   "outputs": [
    {
     "name": "stdout",
     "output_type": "stream",
     "text": [
      "All files found!\n"
     ]
    }
   ],
   "source": [
    "from urllib.request import urlretrieve\n",
    "from os.path import isfile, isdir\n",
    "from tqdm import tqdm\n",
    "import problem_unittests as tests\n",
    "import tarfile\n",
    "\n",
    "cifar10_dataset_folder_path = 'cifar-10-batches-py'\n",
    "\n",
    "class DLProgress(tqdm):\n",
    "    last_block = 0\n",
    "\n",
    "    def hook(self, block_num=1, block_size=1, total_size=None):\n",
    "        self.total = total_size\n",
    "        self.update((block_num - self.last_block) * block_size)\n",
    "        self.last_block = block_num\n",
    "\n",
    "if not isfile('cifar-10-python.tar.gz'):\n",
    "    with DLProgress(unit='B', unit_scale=True, miniters=1, desc='CIFAR-10 Dataset') as pbar:\n",
    "        urlretrieve(\n",
    "            'https://www.cs.toronto.edu/~kriz/cifar-10-python.tar.gz',\n",
    "            'cifar-10-python.tar.gz',\n",
    "            pbar.hook)\n",
    "\n",
    "if not isdir(cifar10_dataset_folder_path):\n",
    "    with tarfile.open('cifar-10-python.tar.gz') as tar:\n",
    "        tar.extractall()\n",
    "        tar.close()\n",
    "\n",
    "\n",
    "tests.test_folder_path(cifar10_dataset_folder_path)"
   ]
  },
  {
   "cell_type": "markdown",
   "metadata": {},
   "source": [
    "## Explore the Data\n",
    "The dataset is broken into batches to prevent your machine from running out of memory.  The CIFAR-10 dataset consists of 5 batches, named `data_batch_1`, `data_batch_2`, etc.. Each batch contains the labels and images that are one of the following:\n",
    "* airplane\n",
    "* automobile\n",
    "* bird\n",
    "* cat\n",
    "* deer\n",
    "* dog\n",
    "* frog\n",
    "* horse\n",
    "* ship\n",
    "* truck\n",
    "\n",
    "Understanding a dataset is part of making predictions on the data.  Play around with the code cell below by changing the `batch_id` and `sample_id`. The `batch_id` is the id for a batch (1-5). The `sample_id` is the id for a image and label pair in the batch.\n",
    "\n",
    "Ask yourself \"What are all possible labels?\", \"What is the range of values for the image data?\", \"Are the labels in order or random?\".  Answers to questions like these will help you preprocess the data and end up with better predictions."
   ]
  },
  {
   "cell_type": "code",
   "execution_count": 2,
   "metadata": {},
   "outputs": [
    {
     "name": "stdout",
     "output_type": "stream",
     "text": [
      "\n",
      "Stats of batch 1:\n",
      "Samples: 10000\n",
      "Label Counts: {0: 1005, 1: 974, 2: 1032, 3: 1016, 4: 999, 5: 937, 6: 1030, 7: 1001, 8: 1025, 9: 981}\n",
      "First 20 Labels: [6, 9, 9, 4, 1, 1, 2, 7, 8, 3, 4, 7, 7, 2, 9, 9, 9, 3, 2, 6]\n",
      "\n",
      "Example of Image 5:\n",
      "Image - Min Value: 0 Max Value: 252\n",
      "Image - Shape: (32, 32, 3)\n",
      "Label - Label Id: 1 Name: automobile\n"
     ]
    },
    {
     "data": {
      "image/png": "[encoded data removed]",
      "text/plain": [
       "<Figure size 432x288 with 1 Axes>"
      ]
     },
     "metadata": {
      "image/png": {
       "height": 248,
       "width": 251
      },
      "needs_background": "light"
     },
     "output_type": "display_data"
    }
   ],
   "source": [
    "%matplotlib inline\n",
    "%config InlineBackend.figure_format = 'retina'\n",
    "\n",
    "import helper\n",
    "import numpy as np\n",
    "import pandas as pd\n",
    "\n",
    "# Explore the dataset\n",
    "batch_id = 1\n",
    "sample_id = 5\n",
    "helper.display_stats(cifar10_dataset_folder_path, batch_id, sample_id)"
   ]
  },
  {
   "cell_type": "markdown",
   "metadata": {},
   "source": [
    "## Implement Preprocess Functions\n",
    "### Normalize\n",
    "In the cell below, implement the `normalize` function to take in image data, `x`, and return it as a normalized Numpy array. The values should be in the range of 0 to 1, inclusive.  The return object should be the same shape as `x`."
   ]
  },
  {
   "cell_type": "code",
   "execution_count": 31,
   "metadata": {},
   "outputs": [
    {
     "name": "stdout",
     "output_type": "stream",
     "text": [
      "Tests Passed\n"
     ]
    }
   ],
   "source": [
    "def normalize(x):\n",
    "    \"\"\"\n",
    "    Normalize a list of sample image data in the range of 0 to 1\n",
    "    : x: List of image data.  The image shape is (32, 32, 3)\n",
    "    : return: Numpy array of normalize data\n",
    "    \"\"\"\n",
    "    # TODO: Implement Function\n",
    "    normalized_x = np.zeros(tuple(x.shape))\n",
    "    nr_images = x.shape[0]\n",
    "    # Compute max/min values.\n",
    "    max_val, min_val = x.max(), x.min()\n",
    "    # Transform every image.\n",
    "    for image_index in range(nr_images):\n",
    "        normalized_x[image_index,...] = (x[image_index, ...] - float(min_val)) / float(max_val - min_val)    \n",
    "    return normalized_x\n",
    "\n",
    "tests.test_normalize(normalize)"
   ]
  },
  {
   "cell_type": "markdown",
   "metadata": {},
   "source": [
    "### One-hot encode\n",
    "This time, we'll implement the `one_hot_encode` function. The input, `x`, are a list of labels.  Implement the function to return the list of labels as One-Hot encoded Numpy array.  The possible values for labels are 0 to 9. The one-hot encoding function should return the same encoding for each value between each call to `one_hot_encode`. Here we will use the `LabelBinarizer` function from `sklearn.preprocessing` "
   ]
  },
  {
   "cell_type": "code",
   "execution_count": 71,
   "metadata": {},
   "outputs": [
    {
     "name": "stdout",
     "output_type": "stream",
     "text": [
      "Tests Passed\n"
     ]
    }
   ],
   "source": [
    "a=np.arange(10)\n",
    "def one_hot_encode(x):\n",
    "    \"\"\"\n",
    "    One hot encode a list of sample labels. Return a one-hot encoded vector for each label.\n",
    "    : x: List of sample Labels\n",
    "    : return: Numpy array of one-hot encoded labels\n",
    "    \"\"\"\n",
    "    from sklearn.preprocessing import LabelBinarizer\n",
    "    en=LabelBinarizer()\n",
    "    en=en.fit(a)\n",
    "    return en.transform(x)\n",
    "\n",
    "\n",
    "tests.test_one_hot_encode(one_hot_encode)"
   ]
  },
  {
   "cell_type": "markdown",
   "metadata": {},
   "source": [
    "## Preprocess all the data and save it\n",
    "Running the code cell below will preprocess all the CIFAR-10 data and save it to file. The code below also uses 10% of the training data for validation."
   ]
  },
  {
   "cell_type": "code",
   "execution_count": 72,
   "metadata": {},
   "outputs": [],
   "source": [
    "# Preprocess Training, Validation, and Testing Data\n",
    "helper.preprocess_and_save_data(cifar10_dataset_folder_path, normalize, one_hot_encode)"
   ]
  },
  {
   "cell_type": "markdown",
   "metadata": {},
   "source": [
    "# Check Point\n",
    "The preprocessed data has been saved to disk. From now on we can start the program from the below cell , so that we don't have to run the above cells each time ."
   ]
  },
  {
   "cell_type": "code",
   "execution_count": 73,
   "metadata": {},
   "outputs": [],
   "source": [
    "import pickle\n",
    "import problem_unittests as tests\n",
    "import helper\n",
    "\n",
    "# Load the Preprocessed Validation data\n",
    "valid_features, valid_labels = pickle.load(open('preprocess_validation.p', mode='rb'))"
   ]
  },
  {
   "cell_type": "markdown",
   "metadata": {},
   "source": [
    "## Build the network\n",
    "For the neural network, we'll build each layer into a function. This isn't necessary but we have done it, as it helps us understanding how each layer works and it would be easy to understand in next time we see our project. \n",
    "\n",
    "### Input\n",
    "The neural network needs to read the image data, one-hot encoded labels, and dropout keep probability. Implement the following functions\n",
    "* Implement `neural_net_image_input`\n",
    " * Return a [TF Placeholder]\n",
    "* Implement `neural_net_label_input`\n",
    " * Return a [TF Placeholder]\n",
    "* Implement `neural_net_keep_prob_input`\n",
    " * Return a [TF Placeholder]"
   ]
  },
  {
   "cell_type": "code",
   "execution_count": 74,
   "metadata": {},
   "outputs": [
    {
     "name": "stdout",
     "output_type": "stream",
     "text": [
      "Image Input Tests Passed.\n",
      "Label Input Tests Passed.\n",
      "Keep Prob Tests Passed.\n"
     ]
    }
   ],
   "source": [
    "import tensorflow as tf\n",
    "\n",
    "def neural_net_image_input(image_shape):\n",
    "    \"\"\"\n",
    "    Return a Tensor for a batch of image input\n",
    "    : image_shape: Shape of the images\n",
    "    : return: Tensor for image input.\n",
    "    \"\"\"\n",
    "    # Implement Function\n",
    "    a=((None,image_shape[0],image_shape[1],image_shape[2]))\n",
    "    return tf.compat.v1.placeholder(tf.float32, shape=a, name='x')\n",
    "\n",
    "\n",
    "def neural_net_label_input(n_classes):\n",
    "    \"\"\"\n",
    "    Return a Tensor for a batch of label input\n",
    "    : n_classes: Number of classes\n",
    "    : return: Tensor for label input.\n",
    "    \"\"\"\n",
    "    # Implement Function\n",
    "    n_classes= (None, n_classes) \n",
    "    return tf.compat.v1.placeholder(tf.float32, shape=n_classes , name='y')\n",
    "\n",
    "\n",
    "def neural_net_keep_prob_input():\n",
    "    \"\"\"\n",
    "    Return a Tensor for keep probability\n",
    "    : return: Tensor for keep probability.\n",
    "    \"\"\"\n",
    "    # Implement Function\n",
    "    return tf.compat.v1.placeholder(tf.float32, name='keep_prob')\n",
    "\n",
    "tf.reset_default_graph()\n",
    "tests.test_nn_image_inputs(neural_net_image_input)\n",
    "tests.test_nn_label_inputs(neural_net_label_input)\n",
    "tests.test_nn_keep_prob_inputs(neural_net_keep_prob_input)"
   ]
  },
  {
   "cell_type": "markdown",
   "metadata": {},
   "source": [
    "### Convolution and Max Pooling Layer\n",
    "Convolution layers have a lot of success with images. For this code cell, you should implement the function `conv2d_maxpool` to apply convolution then max pooling:"
   ]
  },
  {
   "cell_type": "code",
   "execution_count": 75,
   "metadata": {},
   "outputs": [
    {
     "name": "stdout",
     "output_type": "stream",
     "text": [
      "Tests Passed\n"
     ]
    }
   ],
   "source": [
    "def conv2d_maxpool(x_tensor, conv_num_outputs, conv_ksize, conv_strides, pool_ksize, pool_strides):\n",
    "    \"\"\"\n",
    "    Apply convolution then max pooling to x_tensor\n",
    "    :param x_tensor: TensorFlow Tensor\n",
    "    :param conv_num_outputs: Number of outputs for the convolutional layer\n",
    "    :param conv_ksize: kernal size 2-D Tuple for the convolutional layer\n",
    "    :param conv_strides: Stride 2-D Tuple for convolution\n",
    "    :param pool_ksize: kernal size 2-D Tuple for pool\n",
    "    :param pool_strides: Stride 2-D Tuple for pool\n",
    "    : return: A tensor that represents convolution and max pooling of x_tensor\n",
    "    \"\"\"\n",
    "    # TODO: Implement Function\n",
    "    weights_shape = list(conv_ksize) + [x_tensor.get_shape().as_list()[3], conv_num_outputs]\n",
    "    # Define our trainable variables.\n",
    "    weights = tf.Variable(tf.truncated_normal(weights_shape, stddev=5e-2))\n",
    "    bias = tf.Variable(tf.zeros(conv_num_outputs))\n",
    "    \n",
    "    output = tf.nn.conv2d(x_tensor, weights, strides=[1, conv_strides[0], conv_strides[1], 1], padding='SAME')\n",
    "    output = tf.nn.bias_add(output, bias)\n",
    "    output = tf.nn.relu(output)\n",
    "    \n",
    "    output = tf.nn.max_pool(output, \n",
    "                            ksize=[1, pool_ksize[0], pool_ksize[1], 1], \n",
    "                            strides=[1, pool_strides[0], pool_strides[1], 1],\n",
    "                            padding='SAME')  \n",
    "    \n",
    "    return output\n",
    "\n",
    "tests.test_con_pool(conv2d_maxpool)"
   ]
  },
  {
   "cell_type": "markdown",
   "metadata": {},
   "source": [
    "### Flatten Layer\n",
    "Implement the `flatten` function to change the dimension of `x_tensor` from a 4-D tensor to a 2-D tensor.  The output should be the shape (*Batch Size*, *Flattened Image Size*)."
   ]
  },
  {
   "cell_type": "code",
   "execution_count": 76,
   "metadata": {},
   "outputs": [
    {
     "name": "stdout",
     "output_type": "stream",
     "text": [
      "Tests Passed\n"
     ]
    }
   ],
   "source": [
    "def flatten(x_tensor):\n",
    "    \"\"\"\n",
    "    Flatten x_tensor to (Batch Size, Flattened Image Size)\n",
    "    : x_tensor: A tensor of size (Batch Size, ...), where ... are the image dimensions.\n",
    "    : return: A tensor of size (Batch Size, Flattened Image Size).\n",
    "    \"\"\"\n",
    "    # Implement Function\n",
    "    y=tf.compat.v1.layers.flatten(x_tensor)\n",
    "    return y\n",
    "\n",
    "tests.test_flatten(flatten)"
   ]
  },
  {
   "cell_type": "markdown",
   "metadata": {},
   "source": [
    "### Fully-Connected Layer\n",
    "Implement the `fully_conn` function to apply a fully connected layer to `x_tensor` with the shape (*Batch Size*, *num_outputs*). "
   ]
  },
  {
   "cell_type": "code",
   "execution_count": 77,
   "metadata": {},
   "outputs": [
    {
     "name": "stdout",
     "output_type": "stream",
     "text": [
      "Tests Passed\n"
     ]
    }
   ],
   "source": [
    "def fully_conn(x_tensor, num_outputs):\n",
    "    \"\"\"\n",
    "    Apply a fully connected layer to x_tensor using weight and bias\n",
    "    : x_tensor: A 2-D tensor where the first dimension is batch size.\n",
    "    : num_outputs: The number of output that the new tensor should be.\n",
    "    : return: A 2-D tensor where the second dimension is num_outputs.\n",
    "    \"\"\"\n",
    "    # TODO: Implement Function\n",
    "    y=tf.contrib.layers.fully_connected(x_tensor,num_outputs)\n",
    "    return y\n",
    "\n",
    "\n",
    "tests.test_fully_conn(fully_conn)"
   ]
  },
  {
   "cell_type": "markdown",
   "metadata": {},
   "source": [
    "### Output Layer\n",
    "Implement the `output` function to apply a fully connected layer to `x_tensor` with the shape (*Batch Size*, *num_outputs*). "
   ]
  },
  {
   "cell_type": "code",
   "execution_count": 78,
   "metadata": {},
   "outputs": [
    {
     "name": "stdout",
     "output_type": "stream",
     "text": [
      "Tests Passed\n"
     ]
    }
   ],
   "source": [
    "def output(x_tensor, num_outputs):\n",
    "    \"\"\"\n",
    "    Apply a output layer to x_tensor using weight and bias\n",
    "    : x_tensor: A 2-D tensor where the first dimension is batch size.\n",
    "    : num_outputs: The number of output that the new tensor should be.\n",
    "    : return: A 2-D tensor where the second dimension is num_outputs.\n",
    "    \"\"\"\n",
    "    # TODO: Implement Function\n",
    "    y=tf.contrib.layers.fully_connected(x_tensor,num_outputs)\n",
    "    return y\n",
    "\n",
    "tests.test_output(output)"
   ]
  },
  {
   "cell_type": "markdown",
   "metadata": {},
   "source": [
    "### Create Convolutional Model\n",
    "Implement the function `conv_net` to create a convolutional neural network model. The function takes in a batch of images, `x`, and outputs logits.  Use the layers you created above to create this model:\n",
    "\n",
    "* Apply 1, 2, or 3 Convolution and Max Pool layers\n",
    "* Apply a Flatten Layer\n",
    "* Apply 1, 2, or 3 Fully Connected Layers\n",
    "* Apply an Output Layer\n",
    "* Return the output\n",
    "* Apply TensorFlow's Dropout to one or more layers in the model using `keep_prob`. "
   ]
  },
  {
   "cell_type": "code",
   "execution_count": 102,
   "metadata": {},
   "outputs": [
    {
     "name": "stdout",
     "output_type": "stream",
     "text": [
      "Neural Network Built!\n"
     ]
    }
   ],
   "source": [
    "def conv_net(x, keep_prob,num_classes=10):\n",
    "    \"\"\"\n",
    "    Create a convolutional neural network model\n",
    "    : x: Placeholder tensor that holds image data.\n",
    "    : keep_prob: Placeholder tensor that hold dropout keep probability.\n",
    "    : return: Tensor that represents logits\n",
    "    \"\"\"\n",
    "    # Apply 1, 2, or 3 Convolution and Max Pool layers\n",
    "    conv = conv2d_maxpool(x,conv_num_outputs =64 ,\n",
    "                          conv_ksize = [5,5], \n",
    "                          conv_strides = [1,1], \n",
    "                          pool_ksize = [3,3], \n",
    "                          pool_strides = [2,2])\n",
    "    \n",
    "    conv = conv2d_maxpool(x,conv_num_outputs =64 ,\n",
    "                          conv_ksize = [5,5], \n",
    "                          conv_strides = [1,1], \n",
    "                          pool_ksize = [3,3], \n",
    "                          pool_strides = [2,2])\n",
    "    \n",
    "\n",
    "    # Apply a Flatten Layer\n",
    "    flat = flatten(conv)\n",
    "\n",
    "    # Apply 1, 2, or 3 Fully Connected Layers\n",
    "    full = fully_conn(flat,384)\n",
    "    full = fully_conn(flat,200)\n",
    "    \n",
    "    #  Apply an Output Layer\n",
    "    full = tf.nn.dropout(full,keep_prob)\n",
    "    full = output(full,num_classes)\n",
    "    \n",
    "    \n",
    "    # return output\n",
    "    return full\n",
    "\n",
    "\n",
    "### Build the Neural Network ###\n",
    "\n",
    "\n",
    "# Remove previous weights, bias, inputs, etc..\n",
    "tf.reset_default_graph()\n",
    "\n",
    "# Inputs\n",
    "x = neural_net_image_input((32, 32, 3))\n",
    "y = neural_net_label_input(10)\n",
    "keep_prob = neural_net_keep_prob_input()\n",
    "\n",
    "# Model\n",
    "logits = conv_net(x, keep_prob)\n",
    "\n",
    "# Name logits Tensor, so that is can be loaded from disk after training\n",
    "logits = tf.identity(logits, name='logits')\n",
    "\n",
    "# Loss and Optimizer\n",
    "cost = tf.reduce_mean(tf.nn.softmax_cross_entropy_with_logits(logits=logits, labels=y))\n",
    "optimizer = tf.train.AdamOptimizer().minimize(cost)\n",
    "\n",
    "# Accuracy\n",
    "correct_pred = tf.equal(tf.argmax(logits, 1), tf.argmax(y, 1))\n",
    "accuracy = tf.reduce_mean(tf.cast(correct_pred, tf.float32), name='accuracy')\n",
    "\n",
    "tests.test_conv_net(conv_net)"
   ]
  },
  {
   "cell_type": "markdown",
   "metadata": {},
   "source": [
    "## Train the Neural Network\n",
    "### Single Optimization\n",
    "Implement the function `train_neural_network` to do a single optimization.  The optimization should use `optimizer` to optimize in `session` with a `feed_dict` of the following:\n",
    "* `x` for image input\n",
    "* `y` for labels\n",
    "* `keep_prob` for keep probability for dropout"
   ]
  },
  {
   "cell_type": "code",
   "execution_count": 103,
   "metadata": {},
   "outputs": [
    {
     "name": "stdout",
     "output_type": "stream",
     "text": [
      "Tests Passed\n"
     ]
    }
   ],
   "source": [
    "def train_neural_network(session, optimizer, keep_probability, feature_batch, label_batch):\n",
    "    \"\"\"\n",
    "    Optimize the session on a batch of images and labels\n",
    "    : session: Current TensorFlow session\n",
    "    : optimizer: TensorFlow optimizer function\n",
    "    : keep_probability: keep probability\n",
    "    : feature_batch: Batch of Numpy image data\n",
    "    : label_batch: Batch of Numpy label data\n",
    "    \"\"\"\n",
    "    # Implement Function\n",
    "    session.run(optimizer , feed_dict = {x: feature_batch,\n",
    "                                        y:label_batch,\n",
    "                                        keep_prob : keep_probability})\n",
    "\n",
    "tests.test_train_nn(train_neural_network)"
   ]
  },
  {
   "cell_type": "markdown",
   "metadata": {},
   "source": [
    "### Show Stats\n",
    "Implement the function `print_stats` to print loss and validation accuracy.  Use the global variables `valid_features` and `valid_labels` to calculate validation accuracy.  Use a keep probability of `1.0` to calculate the loss and validation accuracy."
   ]
  },
  {
   "cell_type": "code",
   "execution_count": 104,
   "metadata": {},
   "outputs": [],
   "source": [
    "def print_stats(session, feature_batch, label_batch, cost, accuracy):\n",
    "    \"\"\"\n",
    "    Print information about loss and validation accuracy\n",
    "    : session: Current TensorFlow session\n",
    "    : feature_batch: Batch of Numpy image data\n",
    "    : label_batch: Batch of Numpy label data\n",
    "    : cost: TensorFlow cost function\n",
    "    : accuracy: TensorFlow accuracy function\n",
    "    \"\"\"\n",
    "    # Implement Function\n",
    "    loss = session.run(cost,feed_dict={x:feature_batch,\n",
    "                                      y :label_batch,\n",
    "                                      keep_prob:1.})\n",
    "    valid = session.run(accuracy,feed_dict = {x:valid_features,\n",
    "                                             y:valid_labels,\n",
    "                                             keep_prob : 1.})\n",
    "    print('The loss is :{:.4f} and the validation accuracy is : {:.6f}'.format(loss,valid))\n",
    "    "
   ]
  },
  {
   "cell_type": "markdown",
   "metadata": {},
   "source": [
    "### Hyperparameters\n",
    "Tune the following parameters:\n",
    "* Set `epochs` to the number of iterations until the network stops learning or start overfitting\n",
    "* Set `batch_size` to the highest number that your machine has memory for.  Most people set them to common sizes of memory:\n",
    "* Set `keep_probability` to the probability of keeping a node using dropout"
   ]
  },
  {
   "cell_type": "code",
   "execution_count": 105,
   "metadata": {},
   "outputs": [],
   "source": [
    "# Tune Parameters\n",
    "epochs = 50\n",
    "batch_size = 256\n",
    "keep_probability = .77"
   ]
  },
  {
   "cell_type": "markdown",
   "metadata": {},
   "source": [
    "### Train on a Single CIFAR-10 Batch\n",
    "Instead of training the neural network on all the CIFAR-10 batches of data, let's use a single batch. This should save time while you iterate on the model to get a better accuracy.  Once the final validation accuracy is 50% or greater, run the model on all the data in the next section."
   ]
  },
  {
   "cell_type": "code",
   "execution_count": 106,
   "metadata": {},
   "outputs": [
    {
     "name": "stdout",
     "output_type": "stream",
     "text": [
      "Checking the Training on a Single Batch...\n",
      "Epoch  1, CIFAR-10 Batch 1:  The loss is :2.1089 and the validation accuracy is : 0.290800\n",
      "Epoch  2, CIFAR-10 Batch 1:  The loss is :1.9153 and the validation accuracy is : 0.354400\n",
      "Epoch  3, CIFAR-10 Batch 1:  The loss is :1.6206 and the validation accuracy is : 0.420000\n",
      "Epoch  4, CIFAR-10 Batch 1:  The loss is :1.4058 and the validation accuracy is : 0.460800\n",
      "Epoch  5, CIFAR-10 Batch 1:  The loss is :1.0787 and the validation accuracy is : 0.494200\n",
      "Epoch  6, CIFAR-10 Batch 1:  The loss is :0.9549 and the validation accuracy is : 0.503800\n",
      "Epoch  7, CIFAR-10 Batch 1:  The loss is :0.9125 and the validation accuracy is : 0.501600\n",
      "Epoch  8, CIFAR-10 Batch 1:  The loss is :0.8161 and the validation accuracy is : 0.526400\n",
      "Epoch  9, CIFAR-10 Batch 1:  The loss is :0.7232 and the validation accuracy is : 0.534400\n",
      "Epoch 10, CIFAR-10 Batch 1:  The loss is :0.6477 and the validation accuracy is : 0.545000\n",
      "Epoch 11, CIFAR-10 Batch 1:  The loss is :0.5837 and the validation accuracy is : 0.554400\n",
      "Epoch 12, CIFAR-10 Batch 1:  The loss is :0.5469 and the validation accuracy is : 0.546200\n",
      "Epoch 13, CIFAR-10 Batch 1:  The loss is :0.5231 and the validation accuracy is : 0.548600\n",
      "Epoch 14, CIFAR-10 Batch 1:  The loss is :0.5257 and the validation accuracy is : 0.542200\n",
      "Epoch 15, CIFAR-10 Batch 1:  The loss is :0.4960 and the validation accuracy is : 0.541200\n",
      "Epoch 16, CIFAR-10 Batch 1:  The loss is :0.4676 and the validation accuracy is : 0.537800\n",
      "Epoch 17, CIFAR-10 Batch 1:  The loss is :0.4549 and the validation accuracy is : 0.548200\n",
      "Epoch 18, CIFAR-10 Batch 1:  The loss is :0.4353 and the validation accuracy is : 0.561600\n",
      "Epoch 19, CIFAR-10 Batch 1:  The loss is :0.4033 and the validation accuracy is : 0.565600\n",
      "Epoch 20, CIFAR-10 Batch 1:  The loss is :0.3740 and the validation accuracy is : 0.569800\n",
      "Epoch 21, CIFAR-10 Batch 1:  The loss is :0.3756 and the validation accuracy is : 0.556200\n",
      "Epoch 22, CIFAR-10 Batch 1:  The loss is :0.3754 and the validation accuracy is : 0.539800\n",
      "Epoch 23, CIFAR-10 Batch 1:  The loss is :0.3700 and the validation accuracy is : 0.533600\n",
      "Epoch 24, CIFAR-10 Batch 1:  The loss is :0.3245 and the validation accuracy is : 0.567400\n",
      "Epoch 25, CIFAR-10 Batch 1:  The loss is :0.3194 and the validation accuracy is : 0.572400\n",
      "Epoch 26, CIFAR-10 Batch 1:  The loss is :0.3157 and the validation accuracy is : 0.571400\n",
      "Epoch 27, CIFAR-10 Batch 1:  The loss is :0.3204 and the validation accuracy is : 0.568800\n",
      "Epoch 28, CIFAR-10 Batch 1:  The loss is :0.3231 and the validation accuracy is : 0.554400\n",
      "Epoch 29, CIFAR-10 Batch 1:  The loss is :0.3136 and the validation accuracy is : 0.563800\n",
      "Epoch 30, CIFAR-10 Batch 1:  The loss is :0.3128 and the validation accuracy is : 0.561400\n",
      "Epoch 31, CIFAR-10 Batch 1:  The loss is :0.3226 and the validation accuracy is : 0.542000\n",
      "Epoch 32, CIFAR-10 Batch 1:  The loss is :0.3168 and the validation accuracy is : 0.548000\n",
      "Epoch 33, CIFAR-10 Batch 1:  The loss is :0.3009 and the validation accuracy is : 0.554200\n",
      "Epoch 34, CIFAR-10 Batch 1:  The loss is :0.2978 and the validation accuracy is : 0.548800\n",
      "Epoch 35, CIFAR-10 Batch 1:  The loss is :0.2971 and the validation accuracy is : 0.553200\n",
      "Epoch 36, CIFAR-10 Batch 1:  The loss is :0.3032 and the validation accuracy is : 0.562000\n",
      "Epoch 37, CIFAR-10 Batch 1:  The loss is :0.3001 and the validation accuracy is : 0.562400\n",
      "Epoch 38, CIFAR-10 Batch 1:  The loss is :0.3029 and the validation accuracy is : 0.563000\n",
      "Epoch 39, CIFAR-10 Batch 1:  The loss is :0.2954 and the validation accuracy is : 0.567800\n",
      "Epoch 40, CIFAR-10 Batch 1:  The loss is :0.2922 and the validation accuracy is : 0.576600\n",
      "Epoch 41, CIFAR-10 Batch 1:  The loss is :0.2945 and the validation accuracy is : 0.568200\n",
      "Epoch 42, CIFAR-10 Batch 1:  The loss is :0.2912 and the validation accuracy is : 0.565800\n",
      "Epoch 43, CIFAR-10 Batch 1:  The loss is :0.1275 and the validation accuracy is : 0.582200\n",
      "Epoch 44, CIFAR-10 Batch 1:  The loss is :0.0972 and the validation accuracy is : 0.578400\n",
      "Epoch 45, CIFAR-10 Batch 1:  The loss is :0.0869 and the validation accuracy is : 0.576800\n",
      "Epoch 46, CIFAR-10 Batch 1:  The loss is :0.0830 and the validation accuracy is : 0.573000\n",
      "Epoch 47, CIFAR-10 Batch 1:  The loss is :0.0765 and the validation accuracy is : 0.587000\n",
      "Epoch 48, CIFAR-10 Batch 1:  The loss is :0.0773 and the validation accuracy is : 0.598600\n",
      "Epoch 49, CIFAR-10 Batch 1:  The loss is :0.0740 and the validation accuracy is : 0.605400\n",
      "Epoch 50, CIFAR-10 Batch 1:  The loss is :0.0693 and the validation accuracy is : 0.593400\n"
     ]
    }
   ],
   "source": [
    "\"\"\"\n",
    "DON'T MODIFY ANYTHING IN THIS CELL\n",
    "\"\"\"\n",
    "print('Checking the Training on a Single Batch...')\n",
    "with tf.Session() as sess:\n",
    "    # Initializing the variables\n",
    "    sess.run(tf.global_variables_initializer())\n",
    "    \n",
    "    # Training cycle\n",
    "    for epoch in range(epochs):\n",
    "        batch_i = 1\n",
    "        for batch_features, batch_labels in helper.load_preprocess_training_batch(batch_i, batch_size):\n",
    "            train_neural_network(sess, optimizer, keep_probability, batch_features, batch_labels)\n",
    "        print('Epoch {:>2}, CIFAR-10 Batch {}:  '.format(epoch + 1, batch_i), end='')\n",
    "        print_stats(sess, batch_features, batch_labels, cost, accuracy)"
   ]
  },
  {
   "cell_type": "markdown",
   "metadata": {},
   "source": [
    "### Fully Train the Model\n",
    "Now that you got a good accuracy with a single CIFAR-10 batch, try it with all five batches."
   ]
  },
  {
   "cell_type": "code",
   "execution_count": 107,
   "metadata": {},
   "outputs": [
    {
     "name": "stdout",
     "output_type": "stream",
     "text": [
      "Training...\n",
      "Epoch  1, CIFAR-10 Batch 1:  The loss is :2.2804 and the validation accuracy is : 0.166200\n",
      "Epoch  1, CIFAR-10 Batch 2:  The loss is :2.1294 and the validation accuracy is : 0.267800\n",
      "Epoch  1, CIFAR-10 Batch 3:  The loss is :2.0160 and the validation accuracy is : 0.306800\n",
      "Epoch  1, CIFAR-10 Batch 4:  The loss is :1.8871 and the validation accuracy is : 0.359200\n",
      "Epoch  1, CIFAR-10 Batch 5:  The loss is :1.7814 and the validation accuracy is : 0.401400\n",
      "Epoch  2, CIFAR-10 Batch 1:  The loss is :1.8860 and the validation accuracy is : 0.414400\n",
      "Epoch  2, CIFAR-10 Batch 2:  The loss is :1.7278 and the validation accuracy is : 0.419400\n",
      "Epoch  2, CIFAR-10 Batch 3:  The loss is :1.6082 and the validation accuracy is : 0.435800\n",
      "Epoch  2, CIFAR-10 Batch 4:  The loss is :1.5370 and the validation accuracy is : 0.440600\n",
      "Epoch  2, CIFAR-10 Batch 5:  The loss is :1.4809 and the validation accuracy is : 0.450800\n",
      "Epoch  3, CIFAR-10 Batch 1:  The loss is :1.6390 and the validation accuracy is : 0.444600\n",
      "Epoch  3, CIFAR-10 Batch 2:  The loss is :1.4667 and the validation accuracy is : 0.456800\n",
      "Epoch  3, CIFAR-10 Batch 3:  The loss is :1.3627 and the validation accuracy is : 0.484800\n",
      "Epoch  3, CIFAR-10 Batch 4:  The loss is :1.4402 and the validation accuracy is : 0.500200\n",
      "Epoch  3, CIFAR-10 Batch 5:  The loss is :1.3367 and the validation accuracy is : 0.510000\n",
      "Epoch  4, CIFAR-10 Batch 1:  The loss is :1.3566 and the validation accuracy is : 0.480000\n",
      "Epoch  4, CIFAR-10 Batch 2:  The loss is :1.3028 and the validation accuracy is : 0.523400\n",
      "Epoch  4, CIFAR-10 Batch 3:  The loss is :1.1694 and the validation accuracy is : 0.524200\n",
      "Epoch  4, CIFAR-10 Batch 4:  The loss is :1.1488 and the validation accuracy is : 0.571400\n",
      "Epoch  4, CIFAR-10 Batch 5:  The loss is :0.9359 and the validation accuracy is : 0.579000\n",
      "Epoch  5, CIFAR-10 Batch 1:  The loss is :1.0393 and the validation accuracy is : 0.557800\n",
      "Epoch  5, CIFAR-10 Batch 2:  The loss is :1.0205 and the validation accuracy is : 0.596000\n",
      "Epoch  5, CIFAR-10 Batch 3:  The loss is :0.9409 and the validation accuracy is : 0.597200\n",
      "Epoch  5, CIFAR-10 Batch 4:  The loss is :1.0090 and the validation accuracy is : 0.598200\n",
      "Epoch  5, CIFAR-10 Batch 5:  The loss is :0.8043 and the validation accuracy is : 0.590600\n",
      "Epoch  6, CIFAR-10 Batch 1:  The loss is :0.9045 and the validation accuracy is : 0.606600\n",
      "Epoch  6, CIFAR-10 Batch 2:  The loss is :0.9261 and the validation accuracy is : 0.612400\n",
      "Epoch  6, CIFAR-10 Batch 3:  The loss is :0.8212 and the validation accuracy is : 0.616200\n",
      "Epoch  6, CIFAR-10 Batch 4:  The loss is :0.8916 and the validation accuracy is : 0.614600\n",
      "Epoch  6, CIFAR-10 Batch 5:  The loss is :0.6973 and the validation accuracy is : 0.616000\n",
      "Epoch  7, CIFAR-10 Batch 1:  The loss is :0.8469 and the validation accuracy is : 0.595000\n",
      "Epoch  7, CIFAR-10 Batch 2:  The loss is :0.5419 and the validation accuracy is : 0.629600\n",
      "Epoch  7, CIFAR-10 Batch 3:  The loss is :0.4364 and the validation accuracy is : 0.646200\n",
      "Epoch  7, CIFAR-10 Batch 4:  The loss is :0.6286 and the validation accuracy is : 0.645800\n",
      "Epoch  7, CIFAR-10 Batch 5:  The loss is :0.4969 and the validation accuracy is : 0.648400\n",
      "Epoch  8, CIFAR-10 Batch 1:  The loss is :0.6645 and the validation accuracy is : 0.640200\n",
      "Epoch  8, CIFAR-10 Batch 2:  The loss is :0.4638 and the validation accuracy is : 0.652200\n",
      "Epoch  8, CIFAR-10 Batch 3:  The loss is :0.3639 and the validation accuracy is : 0.652000\n",
      "Epoch  8, CIFAR-10 Batch 4:  The loss is :0.5078 and the validation accuracy is : 0.644000\n",
      "Epoch  8, CIFAR-10 Batch 5:  The loss is :0.3861 and the validation accuracy is : 0.650600\n",
      "Epoch  9, CIFAR-10 Batch 1:  The loss is :0.5917 and the validation accuracy is : 0.654200\n",
      "Epoch  9, CIFAR-10 Batch 2:  The loss is :0.4365 and the validation accuracy is : 0.658800\n",
      "Epoch  9, CIFAR-10 Batch 3:  The loss is :0.2679 and the validation accuracy is : 0.645800\n",
      "Epoch  9, CIFAR-10 Batch 4:  The loss is :0.3815 and the validation accuracy is : 0.649800\n",
      "Epoch  9, CIFAR-10 Batch 5:  The loss is :0.3313 and the validation accuracy is : 0.646800\n",
      "Epoch 10, CIFAR-10 Batch 1:  The loss is :0.5297 and the validation accuracy is : 0.632800\n",
      "Epoch 10, CIFAR-10 Batch 2:  The loss is :0.3456 and the validation accuracy is : 0.656000\n",
      "Epoch 10, CIFAR-10 Batch 3:  The loss is :0.2106 and the validation accuracy is : 0.657000\n",
      "Epoch 10, CIFAR-10 Batch 4:  The loss is :0.3050 and the validation accuracy is : 0.659200\n",
      "Epoch 10, CIFAR-10 Batch 5:  The loss is :0.2694 and the validation accuracy is : 0.656600\n",
      "Epoch 11, CIFAR-10 Batch 1:  The loss is :0.4291 and the validation accuracy is : 0.641000\n",
      "Epoch 11, CIFAR-10 Batch 2:  The loss is :0.2906 and the validation accuracy is : 0.653400\n",
      "Epoch 11, CIFAR-10 Batch 3:  The loss is :0.1979 and the validation accuracy is : 0.666200\n",
      "Epoch 11, CIFAR-10 Batch 4:  The loss is :0.2511 and the validation accuracy is : 0.662000\n",
      "Epoch 11, CIFAR-10 Batch 5:  The loss is :0.2011 and the validation accuracy is : 0.661800\n",
      "Epoch 12, CIFAR-10 Batch 1:  The loss is :0.3549 and the validation accuracy is : 0.655600\n",
      "Epoch 12, CIFAR-10 Batch 2:  The loss is :0.2905 and the validation accuracy is : 0.673200\n",
      "Epoch 12, CIFAR-10 Batch 3:  The loss is :0.1911 and the validation accuracy is : 0.648000\n",
      "Epoch 12, CIFAR-10 Batch 4:  The loss is :0.2303 and the validation accuracy is : 0.666000\n",
      "Epoch 12, CIFAR-10 Batch 5:  The loss is :0.1683 and the validation accuracy is : 0.663000\n",
      "Epoch 13, CIFAR-10 Batch 1:  The loss is :0.3506 and the validation accuracy is : 0.665200\n",
      "Epoch 13, CIFAR-10 Batch 2:  The loss is :0.2249 and the validation accuracy is : 0.669600\n",
      "Epoch 13, CIFAR-10 Batch 3:  The loss is :0.1340 and the validation accuracy is : 0.657000\n",
      "Epoch 13, CIFAR-10 Batch 4:  The loss is :0.1927 and the validation accuracy is : 0.666800\n",
      "Epoch 13, CIFAR-10 Batch 5:  The loss is :0.1653 and the validation accuracy is : 0.659600\n",
      "Epoch 14, CIFAR-10 Batch 1:  The loss is :0.2851 and the validation accuracy is : 0.659200\n",
      "Epoch 14, CIFAR-10 Batch 2:  The loss is :0.2023 and the validation accuracy is : 0.662000\n",
      "Epoch 14, CIFAR-10 Batch 3:  The loss is :0.1279 and the validation accuracy is : 0.661800\n",
      "Epoch 14, CIFAR-10 Batch 4:  The loss is :0.1961 and the validation accuracy is : 0.652600\n",
      "Epoch 14, CIFAR-10 Batch 5:  The loss is :0.1505 and the validation accuracy is : 0.663800\n",
      "Epoch 15, CIFAR-10 Batch 1:  The loss is :0.2407 and the validation accuracy is : 0.662600\n",
      "Epoch 15, CIFAR-10 Batch 2:  The loss is :0.2030 and the validation accuracy is : 0.662200\n",
      "Epoch 15, CIFAR-10 Batch 3:  The loss is :0.1045 and the validation accuracy is : 0.661000\n",
      "Epoch 15, CIFAR-10 Batch 4:  The loss is :0.1387 and the validation accuracy is : 0.660400\n",
      "Epoch 15, CIFAR-10 Batch 5:  The loss is :0.1278 and the validation accuracy is : 0.660200\n",
      "Epoch 16, CIFAR-10 Batch 1:  The loss is :0.2764 and the validation accuracy is : 0.654600\n",
      "Epoch 16, CIFAR-10 Batch 2:  The loss is :0.1783 and the validation accuracy is : 0.662000\n",
      "Epoch 16, CIFAR-10 Batch 3:  The loss is :0.1011 and the validation accuracy is : 0.665000\n",
      "Epoch 16, CIFAR-10 Batch 4:  The loss is :0.1297 and the validation accuracy is : 0.653200\n",
      "Epoch 16, CIFAR-10 Batch 5:  The loss is :0.1318 and the validation accuracy is : 0.664800\n",
      "Epoch 17, CIFAR-10 Batch 1:  The loss is :0.2088 and the validation accuracy is : 0.653600\n",
      "Epoch 17, CIFAR-10 Batch 2:  The loss is :0.1436 and the validation accuracy is : 0.661600\n",
      "Epoch 17, CIFAR-10 Batch 3:  The loss is :0.0895 and the validation accuracy is : 0.659600\n",
      "Epoch 17, CIFAR-10 Batch 4:  The loss is :0.1215 and the validation accuracy is : 0.653400\n",
      "Epoch 17, CIFAR-10 Batch 5:  The loss is :0.1041 and the validation accuracy is : 0.676800\n",
      "Epoch 18, CIFAR-10 Batch 1:  The loss is :0.2095 and the validation accuracy is : 0.644800\n",
      "Epoch 18, CIFAR-10 Batch 2:  The loss is :0.1582 and the validation accuracy is : 0.653000\n",
      "Epoch 18, CIFAR-10 Batch 3:  The loss is :0.0832 and the validation accuracy is : 0.649000\n",
      "Epoch 18, CIFAR-10 Batch 4:  The loss is :0.1189 and the validation accuracy is : 0.660200\n"
     ]
    },
    {
     "name": "stdout",
     "output_type": "stream",
     "text": [
      "Epoch 18, CIFAR-10 Batch 5:  The loss is :0.0876 and the validation accuracy is : 0.671600\n",
      "Epoch 19, CIFAR-10 Batch 1:  The loss is :0.1577 and the validation accuracy is : 0.657600\n",
      "Epoch 19, CIFAR-10 Batch 2:  The loss is :0.1324 and the validation accuracy is : 0.659600\n",
      "Epoch 19, CIFAR-10 Batch 3:  The loss is :0.0724 and the validation accuracy is : 0.654200\n",
      "Epoch 19, CIFAR-10 Batch 4:  The loss is :0.1199 and the validation accuracy is : 0.654600\n",
      "Epoch 19, CIFAR-10 Batch 5:  The loss is :0.0955 and the validation accuracy is : 0.673800\n",
      "Epoch 20, CIFAR-10 Batch 1:  The loss is :0.1722 and the validation accuracy is : 0.654200\n",
      "Epoch 20, CIFAR-10 Batch 2:  The loss is :0.1072 and the validation accuracy is : 0.642000\n",
      "Epoch 20, CIFAR-10 Batch 3:  The loss is :0.0705 and the validation accuracy is : 0.647200\n",
      "Epoch 20, CIFAR-10 Batch 4:  The loss is :0.0866 and the validation accuracy is : 0.670600\n",
      "Epoch 20, CIFAR-10 Batch 5:  The loss is :0.0747 and the validation accuracy is : 0.670400\n",
      "Epoch 21, CIFAR-10 Batch 1:  The loss is :0.1374 and the validation accuracy is : 0.651000\n",
      "Epoch 21, CIFAR-10 Batch 2:  The loss is :0.1056 and the validation accuracy is : 0.652600\n",
      "Epoch 21, CIFAR-10 Batch 3:  The loss is :0.0595 and the validation accuracy is : 0.655200\n",
      "Epoch 21, CIFAR-10 Batch 4:  The loss is :0.0966 and the validation accuracy is : 0.664800\n",
      "Epoch 21, CIFAR-10 Batch 5:  The loss is :0.0665 and the validation accuracy is : 0.673000\n",
      "Epoch 22, CIFAR-10 Batch 1:  The loss is :0.1038 and the validation accuracy is : 0.655800\n",
      "Epoch 22, CIFAR-10 Batch 2:  The loss is :0.0908 and the validation accuracy is : 0.649800\n",
      "Epoch 22, CIFAR-10 Batch 3:  The loss is :0.0445 and the validation accuracy is : 0.667200\n",
      "Epoch 22, CIFAR-10 Batch 4:  The loss is :0.0832 and the validation accuracy is : 0.650000\n",
      "Epoch 22, CIFAR-10 Batch 5:  The loss is :0.0604 and the validation accuracy is : 0.670800\n",
      "Epoch 23, CIFAR-10 Batch 1:  The loss is :0.1150 and the validation accuracy is : 0.650600\n",
      "Epoch 23, CIFAR-10 Batch 2:  The loss is :0.0808 and the validation accuracy is : 0.650400\n",
      "Epoch 23, CIFAR-10 Batch 3:  The loss is :0.0442 and the validation accuracy is : 0.660800\n",
      "Epoch 23, CIFAR-10 Batch 4:  The loss is :0.0716 and the validation accuracy is : 0.654200\n",
      "Epoch 23, CIFAR-10 Batch 5:  The loss is :0.0585 and the validation accuracy is : 0.666200\n",
      "Epoch 24, CIFAR-10 Batch 1:  The loss is :0.0964 and the validation accuracy is : 0.658400\n",
      "Epoch 24, CIFAR-10 Batch 2:  The loss is :0.0711 and the validation accuracy is : 0.657400\n",
      "Epoch 24, CIFAR-10 Batch 3:  The loss is :0.0378 and the validation accuracy is : 0.667000\n",
      "Epoch 24, CIFAR-10 Batch 4:  The loss is :0.0589 and the validation accuracy is : 0.654400\n",
      "Epoch 24, CIFAR-10 Batch 5:  The loss is :0.0513 and the validation accuracy is : 0.658000\n",
      "Epoch 25, CIFAR-10 Batch 1:  The loss is :0.0897 and the validation accuracy is : 0.655000\n",
      "Epoch 25, CIFAR-10 Batch 2:  The loss is :0.0702 and the validation accuracy is : 0.657600\n",
      "Epoch 25, CIFAR-10 Batch 3:  The loss is :0.0362 and the validation accuracy is : 0.663800\n",
      "Epoch 25, CIFAR-10 Batch 4:  The loss is :0.0391 and the validation accuracy is : 0.661800\n",
      "Epoch 25, CIFAR-10 Batch 5:  The loss is :0.0560 and the validation accuracy is : 0.660600\n",
      "Epoch 26, CIFAR-10 Batch 1:  The loss is :0.0881 and the validation accuracy is : 0.662800\n",
      "Epoch 26, CIFAR-10 Batch 2:  The loss is :0.0500 and the validation accuracy is : 0.653200\n",
      "Epoch 26, CIFAR-10 Batch 3:  The loss is :0.0303 and the validation accuracy is : 0.661400\n",
      "Epoch 26, CIFAR-10 Batch 4:  The loss is :0.0403 and the validation accuracy is : 0.656000\n",
      "Epoch 26, CIFAR-10 Batch 5:  The loss is :0.0381 and the validation accuracy is : 0.673600\n",
      "Epoch 27, CIFAR-10 Batch 1:  The loss is :0.0721 and the validation accuracy is : 0.656000\n",
      "Epoch 27, CIFAR-10 Batch 2:  The loss is :0.0431 and the validation accuracy is : 0.658800\n",
      "Epoch 27, CIFAR-10 Batch 3:  The loss is :0.0298 and the validation accuracy is : 0.667400\n",
      "Epoch 27, CIFAR-10 Batch 4:  The loss is :0.0417 and the validation accuracy is : 0.651800\n",
      "Epoch 27, CIFAR-10 Batch 5:  The loss is :0.0252 and the validation accuracy is : 0.674400\n",
      "Epoch 28, CIFAR-10 Batch 1:  The loss is :0.0550 and the validation accuracy is : 0.661000\n",
      "Epoch 28, CIFAR-10 Batch 2:  The loss is :0.0346 and the validation accuracy is : 0.658400\n",
      "Epoch 28, CIFAR-10 Batch 3:  The loss is :0.0269 and the validation accuracy is : 0.663400\n",
      "Epoch 28, CIFAR-10 Batch 4:  The loss is :0.0230 and the validation accuracy is : 0.660200\n",
      "Epoch 28, CIFAR-10 Batch 5:  The loss is :0.0315 and the validation accuracy is : 0.661200\n",
      "Epoch 29, CIFAR-10 Batch 1:  The loss is :0.0688 and the validation accuracy is : 0.663600\n",
      "Epoch 29, CIFAR-10 Batch 2:  The loss is :0.0377 and the validation accuracy is : 0.662600\n",
      "Epoch 29, CIFAR-10 Batch 3:  The loss is :0.0241 and the validation accuracy is : 0.661400\n",
      "Epoch 29, CIFAR-10 Batch 4:  The loss is :0.0312 and the validation accuracy is : 0.663800\n",
      "Epoch 29, CIFAR-10 Batch 5:  The loss is :0.0259 and the validation accuracy is : 0.668000\n",
      "Epoch 30, CIFAR-10 Batch 1:  The loss is :0.0598 and the validation accuracy is : 0.653600\n",
      "Epoch 30, CIFAR-10 Batch 2:  The loss is :0.0340 and the validation accuracy is : 0.660000\n",
      "Epoch 30, CIFAR-10 Batch 3:  The loss is :0.0187 and the validation accuracy is : 0.671200\n",
      "Epoch 30, CIFAR-10 Batch 4:  The loss is :0.0271 and the validation accuracy is : 0.662000\n",
      "Epoch 30, CIFAR-10 Batch 5:  The loss is :0.0254 and the validation accuracy is : 0.668000\n",
      "Epoch 31, CIFAR-10 Batch 1:  The loss is :0.0600 and the validation accuracy is : 0.651800\n",
      "Epoch 31, CIFAR-10 Batch 2:  The loss is :0.0303 and the validation accuracy is : 0.659800\n",
      "Epoch 31, CIFAR-10 Batch 3:  The loss is :0.0164 and the validation accuracy is : 0.667800\n",
      "Epoch 31, CIFAR-10 Batch 4:  The loss is :0.0282 and the validation accuracy is : 0.647600\n",
      "Epoch 31, CIFAR-10 Batch 5:  The loss is :0.0306 and the validation accuracy is : 0.657400\n",
      "Epoch 32, CIFAR-10 Batch 1:  The loss is :0.0616 and the validation accuracy is : 0.659800\n",
      "Epoch 32, CIFAR-10 Batch 2:  The loss is :0.0297 and the validation accuracy is : 0.656400\n",
      "Epoch 32, CIFAR-10 Batch 3:  The loss is :0.0115 and the validation accuracy is : 0.660000\n",
      "Epoch 32, CIFAR-10 Batch 4:  The loss is :0.0248 and the validation accuracy is : 0.645000\n",
      "Epoch 32, CIFAR-10 Batch 5:  The loss is :0.0228 and the validation accuracy is : 0.666600\n",
      "Epoch 33, CIFAR-10 Batch 1:  The loss is :0.0535 and the validation accuracy is : 0.644800\n",
      "Epoch 33, CIFAR-10 Batch 2:  The loss is :0.0283 and the validation accuracy is : 0.657800\n",
      "Epoch 33, CIFAR-10 Batch 3:  The loss is :0.0139 and the validation accuracy is : 0.664600\n",
      "Epoch 33, CIFAR-10 Batch 4:  The loss is :0.0266 and the validation accuracy is : 0.643600\n",
      "Epoch 33, CIFAR-10 Batch 5:  The loss is :0.0164 and the validation accuracy is : 0.663400\n",
      "Epoch 34, CIFAR-10 Batch 1:  The loss is :0.0562 and the validation accuracy is : 0.660200\n",
      "Epoch 34, CIFAR-10 Batch 2:  The loss is :0.0220 and the validation accuracy is : 0.660600\n",
      "Epoch 34, CIFAR-10 Batch 3:  The loss is :0.0184 and the validation accuracy is : 0.663600\n",
      "Epoch 34, CIFAR-10 Batch 4:  The loss is :0.0224 and the validation accuracy is : 0.656600\n",
      "Epoch 34, CIFAR-10 Batch 5:  The loss is :0.0198 and the validation accuracy is : 0.657000\n",
      "Epoch 35, CIFAR-10 Batch 1:  The loss is :0.0408 and the validation accuracy is : 0.654000\n",
      "Epoch 35, CIFAR-10 Batch 2:  The loss is :0.0219 and the validation accuracy is : 0.662000\n",
      "Epoch 35, CIFAR-10 Batch 3:  The loss is :0.0168 and the validation accuracy is : 0.653000\n",
      "Epoch 35, CIFAR-10 Batch 4:  The loss is :0.0236 and the validation accuracy is : 0.643200\n",
      "Epoch 35, CIFAR-10 Batch 5:  The loss is :0.0131 and the validation accuracy is : 0.661400\n",
      "Epoch 36, CIFAR-10 Batch 1:  The loss is :0.0400 and the validation accuracy is : 0.650600\n",
      "Epoch 36, CIFAR-10 Batch 2:  The loss is :0.0224 and the validation accuracy is : 0.655600\n",
      "Epoch 36, CIFAR-10 Batch 3:  The loss is :0.0184 and the validation accuracy is : 0.657000\n",
      "Epoch 36, CIFAR-10 Batch 4:  The loss is :0.0139 and the validation accuracy is : 0.651400\n"
     ]
    },
    {
     "name": "stdout",
     "output_type": "stream",
     "text": [
      "Epoch 36, CIFAR-10 Batch 5:  The loss is :0.0201 and the validation accuracy is : 0.655200\n",
      "Epoch 37, CIFAR-10 Batch 1:  The loss is :0.0347 and the validation accuracy is : 0.649400\n",
      "Epoch 37, CIFAR-10 Batch 2:  The loss is :0.0339 and the validation accuracy is : 0.657200\n",
      "Epoch 37, CIFAR-10 Batch 3:  The loss is :0.0186 and the validation accuracy is : 0.659000\n",
      "Epoch 37, CIFAR-10 Batch 4:  The loss is :0.0207 and the validation accuracy is : 0.647000\n",
      "Epoch 37, CIFAR-10 Batch 5:  The loss is :0.0212 and the validation accuracy is : 0.655200\n",
      "Epoch 38, CIFAR-10 Batch 1:  The loss is :0.0370 and the validation accuracy is : 0.652200\n",
      "Epoch 38, CIFAR-10 Batch 2:  The loss is :0.0228 and the validation accuracy is : 0.661800\n",
      "Epoch 38, CIFAR-10 Batch 3:  The loss is :0.0117 and the validation accuracy is : 0.658800\n",
      "Epoch 38, CIFAR-10 Batch 4:  The loss is :0.0103 and the validation accuracy is : 0.655600\n",
      "Epoch 38, CIFAR-10 Batch 5:  The loss is :0.0267 and the validation accuracy is : 0.649800\n",
      "Epoch 39, CIFAR-10 Batch 1:  The loss is :0.0354 and the validation accuracy is : 0.661800\n",
      "Epoch 39, CIFAR-10 Batch 2:  The loss is :0.0199 and the validation accuracy is : 0.655200\n",
      "Epoch 39, CIFAR-10 Batch 3:  The loss is :0.0096 and the validation accuracy is : 0.658200\n",
      "Epoch 39, CIFAR-10 Batch 4:  The loss is :0.0093 and the validation accuracy is : 0.656200\n",
      "Epoch 39, CIFAR-10 Batch 5:  The loss is :0.0163 and the validation accuracy is : 0.652200\n",
      "Epoch 40, CIFAR-10 Batch 1:  The loss is :0.0311 and the validation accuracy is : 0.646600\n",
      "Epoch 40, CIFAR-10 Batch 2:  The loss is :0.0228 and the validation accuracy is : 0.650200\n",
      "Epoch 40, CIFAR-10 Batch 3:  The loss is :0.0101 and the validation accuracy is : 0.647200\n",
      "Epoch 40, CIFAR-10 Batch 4:  The loss is :0.0093 and the validation accuracy is : 0.651800\n",
      "Epoch 40, CIFAR-10 Batch 5:  The loss is :0.0139 and the validation accuracy is : 0.659400\n",
      "Epoch 41, CIFAR-10 Batch 1:  The loss is :0.0250 and the validation accuracy is : 0.653200\n",
      "Epoch 41, CIFAR-10 Batch 2:  The loss is :0.0158 and the validation accuracy is : 0.645000\n",
      "Epoch 41, CIFAR-10 Batch 3:  The loss is :0.0052 and the validation accuracy is : 0.660200\n",
      "Epoch 41, CIFAR-10 Batch 4:  The loss is :0.0104 and the validation accuracy is : 0.658600\n",
      "Epoch 41, CIFAR-10 Batch 5:  The loss is :0.0147 and the validation accuracy is : 0.660400\n",
      "Epoch 42, CIFAR-10 Batch 1:  The loss is :0.0261 and the validation accuracy is : 0.649200\n",
      "Epoch 42, CIFAR-10 Batch 2:  The loss is :0.0200 and the validation accuracy is : 0.651800\n",
      "Epoch 42, CIFAR-10 Batch 3:  The loss is :0.0060 and the validation accuracy is : 0.655600\n",
      "Epoch 42, CIFAR-10 Batch 4:  The loss is :0.0080 and the validation accuracy is : 0.655400\n",
      "Epoch 42, CIFAR-10 Batch 5:  The loss is :0.0095 and the validation accuracy is : 0.656400\n",
      "Epoch 43, CIFAR-10 Batch 1:  The loss is :0.0250 and the validation accuracy is : 0.656400\n",
      "Epoch 43, CIFAR-10 Batch 2:  The loss is :0.0148 and the validation accuracy is : 0.646200\n",
      "Epoch 43, CIFAR-10 Batch 3:  The loss is :0.0061 and the validation accuracy is : 0.658400\n",
      "Epoch 43, CIFAR-10 Batch 4:  The loss is :0.0091 and the validation accuracy is : 0.656800\n",
      "Epoch 43, CIFAR-10 Batch 5:  The loss is :0.0120 and the validation accuracy is : 0.660800\n",
      "Epoch 44, CIFAR-10 Batch 1:  The loss is :0.0364 and the validation accuracy is : 0.653600\n",
      "Epoch 44, CIFAR-10 Batch 2:  The loss is :0.0122 and the validation accuracy is : 0.650200\n",
      "Epoch 44, CIFAR-10 Batch 3:  The loss is :0.0057 and the validation accuracy is : 0.651200\n",
      "Epoch 44, CIFAR-10 Batch 4:  The loss is :0.0106 and the validation accuracy is : 0.649400\n",
      "Epoch 44, CIFAR-10 Batch 5:  The loss is :0.0090 and the validation accuracy is : 0.650600\n",
      "Epoch 45, CIFAR-10 Batch 1:  The loss is :0.0284 and the validation accuracy is : 0.637600\n",
      "Epoch 45, CIFAR-10 Batch 2:  The loss is :0.0111 and the validation accuracy is : 0.648400\n",
      "Epoch 45, CIFAR-10 Batch 3:  The loss is :0.0087 and the validation accuracy is : 0.646800\n",
      "Epoch 45, CIFAR-10 Batch 4:  The loss is :0.0076 and the validation accuracy is : 0.651600\n",
      "Epoch 45, CIFAR-10 Batch 5:  The loss is :0.0101 and the validation accuracy is : 0.650200\n",
      "Epoch 46, CIFAR-10 Batch 1:  The loss is :0.0255 and the validation accuracy is : 0.646400\n",
      "Epoch 46, CIFAR-10 Batch 2:  The loss is :0.0104 and the validation accuracy is : 0.642400\n",
      "Epoch 46, CIFAR-10 Batch 3:  The loss is :0.0084 and the validation accuracy is : 0.647000\n",
      "Epoch 46, CIFAR-10 Batch 4:  The loss is :0.0080 and the validation accuracy is : 0.647800\n",
      "Epoch 46, CIFAR-10 Batch 5:  The loss is :0.0072 and the validation accuracy is : 0.660200\n",
      "Epoch 47, CIFAR-10 Batch 1:  The loss is :0.0188 and the validation accuracy is : 0.647000\n",
      "Epoch 47, CIFAR-10 Batch 2:  The loss is :0.0153 and the validation accuracy is : 0.650600\n",
      "Epoch 47, CIFAR-10 Batch 3:  The loss is :0.0146 and the validation accuracy is : 0.636800\n",
      "Epoch 47, CIFAR-10 Batch 4:  The loss is :0.0103 and the validation accuracy is : 0.651800\n",
      "Epoch 47, CIFAR-10 Batch 5:  The loss is :0.0060 and the validation accuracy is : 0.655000\n",
      "Epoch 48, CIFAR-10 Batch 1:  The loss is :0.0392 and the validation accuracy is : 0.642000\n",
      "Epoch 48, CIFAR-10 Batch 2:  The loss is :0.0151 and the validation accuracy is : 0.641600\n",
      "Epoch 48, CIFAR-10 Batch 3:  The loss is :0.0056 and the validation accuracy is : 0.646800\n",
      "Epoch 48, CIFAR-10 Batch 4:  The loss is :0.0050 and the validation accuracy is : 0.654200\n",
      "Epoch 48, CIFAR-10 Batch 5:  The loss is :0.0049 and the validation accuracy is : 0.659200\n",
      "Epoch 49, CIFAR-10 Batch 1:  The loss is :0.0238 and the validation accuracy is : 0.653400\n",
      "Epoch 49, CIFAR-10 Batch 2:  The loss is :0.0112 and the validation accuracy is : 0.653600\n",
      "Epoch 49, CIFAR-10 Batch 3:  The loss is :0.0060 and the validation accuracy is : 0.640200\n",
      "Epoch 49, CIFAR-10 Batch 4:  The loss is :0.0095 and the validation accuracy is : 0.646000\n",
      "Epoch 49, CIFAR-10 Batch 5:  The loss is :0.0048 and the validation accuracy is : 0.655800\n",
      "Epoch 50, CIFAR-10 Batch 1:  The loss is :0.0160 and the validation accuracy is : 0.653600\n",
      "Epoch 50, CIFAR-10 Batch 2:  The loss is :0.0065 and the validation accuracy is : 0.653800\n",
      "Epoch 50, CIFAR-10 Batch 3:  The loss is :0.0066 and the validation accuracy is : 0.650600\n",
      "Epoch 50, CIFAR-10 Batch 4:  The loss is :0.0036 and the validation accuracy is : 0.650600\n",
      "Epoch 50, CIFAR-10 Batch 5:  The loss is :0.0048 and the validation accuracy is : 0.656800\n"
     ]
    }
   ],
   "source": [
    "save_model_path = './image_classification'\n",
    "\n",
    "print('Training...')\n",
    "with tf.Session() as sess:\n",
    "    # Initializing the variables\n",
    "    sess.run(tf.global_variables_initializer())\n",
    "    \n",
    "    # Training cycle\n",
    "    for epoch in range(epochs):\n",
    "        # Loop over all batches\n",
    "        n_batches = 5\n",
    "        for batch_i in range(1, n_batches + 1):\n",
    "            for batch_features, batch_labels in helper.load_preprocess_training_batch(batch_i, batch_size):\n",
    "                train_neural_network(sess, optimizer, keep_probability, batch_features, batch_labels)\n",
    "            print('Epoch {:>2}, CIFAR-10 Batch {}:  '.format(epoch + 1, batch_i), end='')\n",
    "            print_stats(sess, batch_features, batch_labels, cost, accuracy)\n",
    "            \n",
    "    # Save Model\n",
    "    saver = tf.train.Saver()\n",
    "    save_path = saver.save(sess, save_model_path)"
   ]
  },
  {
   "cell_type": "markdown",
   "metadata": {},
   "source": [
    "# Checkpoint\n",
    "The model has been saved to disk.\n",
    "## Test Model\n",
    "Test your model against the test dataset.  This will be your final accuracy. You should have an accuracy greater than 50%. If you don't, keep tweaking the model architecture and parameters."
   ]
  },
  {
   "cell_type": "code",
   "execution_count": 108,
   "metadata": {},
   "outputs": [
    {
     "name": "stdout",
     "output_type": "stream",
     "text": [
      "Testing Accuracy: 0.65732421875\n",
      "\n"
     ]
    },
    {
     "data": {
      "image/png": "[encoded data removed]",
      "text/plain": [
       "<Figure size 432x288 with 8 Axes>"
      ]
     },
     "metadata": {
      "image/png": {
       "height": 319,
       "width": 355
      },
      "needs_background": "light"
     },
     "output_type": "display_data"
    }
   ],
   "source": [
    "%matplotlib inline\n",
    "%config InlineBackend.figure_format = 'retina'\n",
    "\n",
    "import tensorflow as tf\n",
    "import pickle\n",
    "import helper\n",
    "import random\n",
    "\n",
    "# Set batch size if not already set\n",
    "try:\n",
    "    if batch_size:\n",
    "        pass\n",
    "except NameError:\n",
    "    batch_size = 64\n",
    "\n",
    "save_model_path = './image_classification'\n",
    "n_samples = 4\n",
    "top_n_predictions = 3\n",
    "\n",
    "def test_model():\n",
    "    \"\"\"\n",
    "    Test the saved model against the test dataset\n",
    "    \"\"\"\n",
    "\n",
    "    test_features, test_labels = pickle.load(open('preprocess_training.p', mode='rb'))\n",
    "    loaded_graph = tf.Graph()\n",
    "\n",
    "    with tf.Session(graph=loaded_graph) as sess:\n",
    "        # Load model\n",
    "        loader = tf.train.import_meta_graph(save_model_path + '.meta')\n",
    "        loader.restore(sess, save_model_path)\n",
    "\n",
    "        # Get Tensors from loaded model\n",
    "        loaded_x = loaded_graph.get_tensor_by_name('x:0')\n",
    "        loaded_y = loaded_graph.get_tensor_by_name('y:0')\n",
    "        loaded_keep_prob = loaded_graph.get_tensor_by_name('keep_prob:0')\n",
    "        loaded_logits = loaded_graph.get_tensor_by_name('logits:0')\n",
    "        loaded_acc = loaded_graph.get_tensor_by_name('accuracy:0')\n",
    "        \n",
    "        # Get accuracy in batches for memory limitations\n",
    "        test_batch_acc_total = 0\n",
    "        test_batch_count = 0\n",
    "        \n",
    "        for train_feature_batch, train_label_batch in helper.batch_features_labels(test_features, test_labels, batch_size):\n",
    "            test_batch_acc_total += sess.run(\n",
    "                loaded_acc,\n",
    "                feed_dict={loaded_x: train_feature_batch, loaded_y: train_label_batch, loaded_keep_prob: 1.0})\n",
    "            test_batch_count += 1\n",
    "\n",
    "        print('Testing Accuracy: {}\\n'.format(test_batch_acc_total/test_batch_count))\n",
    "\n",
    "        # Print Random Samples\n",
    "        random_test_features, random_test_labels = tuple(zip(*random.sample(list(zip(test_features, test_labels)), n_samples)))\n",
    "        random_test_predictions = sess.run(\n",
    "            tf.nn.top_k(tf.nn.softmax(loaded_logits), top_n_predictions),\n",
    "            feed_dict={loaded_x: random_test_features, loaded_y: random_test_labels, loaded_keep_prob: 1.0})\n",
    "        helper.display_image_predictions(random_test_features, random_test_labels, random_test_predictions)\n",
    "\n",
    "\n",
    "test_model()"
   ]
  },
  {
   "cell_type": "markdown",
   "metadata": {},
   "source": [
    "## Conclusion\n",
    "We only got about 65% accuracy , which doesn't really seem all that great. First things first, This isn't bad for a simple CNN.  Pure guessing would get you 10% accuracy. That's because there are many more techniques that can be applied to the model."
   ]
  }
 ],
 "metadata": {
  "kernelspec": {
   "display_name": "Python 3",
   "language": "python",
   "name": "python3"
  },
  "language_info": {
   "codemirror_mode": {
    "name": "ipython",
    "version": 3
   },
   "file_extension": ".py",
   "mimetype": "text/x-python",
   "name": "python",
   "nbconvert_exporter": "python",
   "pygments_lexer": "ipython3",
   "version": "3.7.3"
  }
 },
 "nbformat": 4,
 "nbformat_minor": 1
}
