{
 "cells": [
  {
   "cell_type": "markdown",
   "metadata": {
    "collapsed": true
   },
   "source": [
    "# Image Classification\n",
    "In this project, you'll classify images from the [CIFAR-10 dataset](https://www.cs.toronto.edu/~kriz/cifar.html).  The dataset consists of airplanes, dogs, cats, and other objects. You'll preprocess the images, then train a convolutional neural network on all the samples. The images need to be normalized and the labels need to be one-hot encoded.  You'll get to apply what you learned and build a convolutional, max pooling, dropout, and fully connected layers.  At the end, you'll get to see your neural network's predictions on the sample images.\n",
    "## Get the Data\n",
    "Run the following cell to download the [CIFAR-10 dataset for python](https://www.cs.toronto.edu/~kriz/cifar-10-python.tar.gz)."
   ]
  },
  {
   "cell_type": "code",
   "execution_count": 1,
   "metadata": {},
   "outputs": [
    {
     "name": "stdout",
     "output_type": "stream",
     "text": [
      "All files found!\n"
     ]
    }
   ],
   "source": [
    "\"\"\"\n",
    "DON'T MODIFY ANYTHING IN THIS CELL THAT IS BELOW THIS LINE\n",
    "\"\"\"\n",
    "from urllib.request import urlretrieve\n",
    "from os.path import isfile, isdir\n",
    "from tqdm import tqdm\n",
    "import problem_unittests as tests\n",
    "import tarfile\n",
    "\n",
    "cifar10_dataset_folder_path = 'cifar-10-batches-py'\n",
    "\n",
    "class DLProgress(tqdm):\n",
    "    last_block = 0\n",
    "\n",
    "    def hook(self, block_num=1, block_size=1, total_size=None):\n",
    "        self.total = total_size\n",
    "        self.update((block_num - self.last_block) * block_size)\n",
    "        self.last_block = block_num\n",
    "\n",
    "if not isfile('cifar-10-python.tar.gz'):\n",
    "    with DLProgress(unit='B', unit_scale=True, miniters=1, desc='CIFAR-10 Dataset') as pbar:\n",
    "        urlretrieve(\n",
    "            'https://www.cs.toronto.edu/~kriz/cifar-10-python.tar.gz',\n",
    "            'cifar-10-python.tar.gz',\n",
    "            pbar.hook)\n",
    "\n",
    "if not isdir(cifar10_dataset_folder_path):\n",
    "    with tarfile.open('cifar-10-python.tar.gz') as tar:\n",
    "        tar.extractall()\n",
    "        tar.close()\n",
    "\n",
    "\n",
    "tests.test_folder_path(cifar10_dataset_folder_path)"
   ]
  },
  {
   "cell_type": "markdown",
   "metadata": {},
   "source": [
    "## Explore the Data\n",
    "The dataset is broken into batches to prevent your machine from running out of memory.  The CIFAR-10 dataset consists of 5 batches, named `data_batch_1`, `data_batch_2`, etc.. Each batch contains the labels and images that are one of the following:\n",
    "* airplane\n",
    "* automobile\n",
    "* bird\n",
    "* cat\n",
    "* deer\n",
    "* dog\n",
    "* frog\n",
    "* horse\n",
    "* ship\n",
    "* truck\n",
    "\n",
    "Understanding a dataset is part of making predictions on the data.  Play around with the code cell below by changing the `batch_id` and `sample_id`. The `batch_id` is the id for a batch (1-5). The `sample_id` is the id for a image and label pair in the batch.\n",
    "\n",
    "Ask yourself \"What are all possible labels?\", \"What is the range of values for the image data?\", \"Are the labels in order or random?\".  Answers to questions like these will help you preprocess the data and end up with better predictions."
   ]
  },
  {
   "cell_type": "code",
   "execution_count": 2,
   "metadata": {},
   "outputs": [
    {
     "name": "stdout",
     "output_type": "stream",
     "text": [
      "\n",
      "Stats of batch 1:\n",
      "Samples: 10000\n",
      "Label Counts: {0: 1005, 1: 974, 2: 1032, 3: 1016, 4: 999, 5: 937, 6: 1030, 7: 1001, 8: 1025, 9: 981}\n",
      "First 20 Labels: [6, 9, 9, 4, 1, 1, 2, 7, 8, 3, 4, 7, 7, 2, 9, 9, 9, 3, 2, 6]\n",
      "\n",
      "Example of Image 5:\n",
      "Image - Min Value: 0 Max Value: 252\n",
      "Image - Shape: (32, 32, 3)\n",
      "Label - Label Id: 1 Name: automobile\n"
     ]
    },
    {
     "data": {
      "image/png": "[encoded data removed]",
      "text/plain": [
       "<Figure size 432x288 with 1 Axes>"
      ]
     },
     "metadata": {
      "image/png": {
       "height": 248,
       "width": 251
      },
      "needs_background": "light"
     },
     "output_type": "display_data"
    }
   ],
   "source": [
    "%matplotlib inline\n",
    "%config InlineBackend.figure_format = 'retina'\n",
    "\n",
    "import helper\n",
    "import numpy as np\n",
    "import pandas as pd\n",
    "\n",
    "# Explore the dataset\n",
    "batch_id = 1\n",
    "sample_id = 5\n",
    "helper.display_stats(cifar10_dataset_folder_path, batch_id, sample_id)"
   ]
  },
  {
   "cell_type": "markdown",
   "metadata": {},
   "source": [
    "## Implement Preprocess Functions\n",
    "### Normalize\n",
    "In the cell below, implement the `normalize` function to take in image data, `x`, and return it as a normalized Numpy array. The values should be in the range of 0 to 1, inclusive.  The return object should be the same shape as `x`."
   ]
  },
  {
   "cell_type": "code",
   "execution_count": 31,
   "metadata": {},
   "outputs": [
    {
     "name": "stdout",
     "output_type": "stream",
     "text": [
      "Tests Passed\n"
     ]
    }
   ],
   "source": [
    "def normalize(x):\n",
    "    \"\"\"\n",
    "    Normalize a list of sample image data in the range of 0 to 1\n",
    "    : x: List of image data.  The image shape is (32, 32, 3)\n",
    "    : return: Numpy array of normalize data\n",
    "    \"\"\"\n",
    "    # TODO: Implement Function\n",
    "    normalized_x = np.zeros(tuple(x.shape))\n",
    "    nr_images = x.shape[0]\n",
    "    # Compute max/min values.\n",
    "    max_val, min_val = x.max(), x.min()\n",
    "    # Transform every image.\n",
    "    for image_index in range(nr_images):\n",
    "        normalized_x[image_index,...] = (x[image_index, ...] - float(min_val)) / float(max_val - min_val)    \n",
    "    return normalized_x\n",
    "\n",
    "\n",
    "\"\"\"\n",
    "DON'T MODIFY ANYTHING IN THIS CELL THAT IS BELOW THIS LINE\n",
    "\"\"\"\n",
    "tests.test_normalize(normalize)"
   ]
  },
  {
   "cell_type": "markdown",
   "metadata": {},
   "source": [
    "### One-hot encode\n",
    "Just like the previous code cell, you'll be implementing a function for preprocessing.  This time, you'll implement the `one_hot_encode` function. The input, `x`, are a list of labels.  Implement the function to return the list of labels as One-Hot encoded Numpy array.  The possible values for labels are 0 to 9. The one-hot encoding function should return the same encoding for each value between each call to `one_hot_encode`.  Make sure to save the map of encodings outside the function.\n",
    "\n",
    "**Hint:**\n",
    "\n",
    "Look into LabelBinarizer in the preprocessing module of sklearn."
   ]
  },
  {
   "cell_type": "code",
   "execution_count": 59,
   "metadata": {},
   "outputs": [
    {
     "name": "stderr",
     "output_type": "stream",
     "text": [
      "C:\\Users\\naman\\Anaconda3\\lib\\site-packages\\sklearn\\preprocessing\\_encoders.py:331: DeprecationWarning: Passing 'n_values' is deprecated in version 0.20 and will be removed in 0.22. You can use the 'categories' keyword instead. 'n_values=n' corresponds to 'categories=[range(n)]'.\n",
      "  warnings.warn(msg, DeprecationWarning)\n",
      "C:\\Users\\naman\\Anaconda3\\lib\\site-packages\\sklearn\\preprocessing\\_encoders.py:331: DeprecationWarning: Passing 'n_values' is deprecated in version 0.20 and will be removed in 0.22. You can use the 'categories' keyword instead. 'n_values=n' corresponds to 'categories=[range(n)]'.\n",
      "  warnings.warn(msg, DeprecationWarning)\n"
     ]
    },
    {
     "name": "stdout",
     "output_type": "stream",
     "text": [
      "Tests Passed\n"
     ]
    }
   ],
   "source": [
    "def one_hot_encode(x,n_values=10):\n",
    "    \"\"\"\n",
    "    One hot encode a list of sample labels. Return a one-hot encoded vector for each label.\n",
    "    : x: List of sample Labels\n",
    "    : return: Numpy array of one-hot encoded labels\n",
    "    \"\"\"\n",
    "    from sklearn.preprocessing import OneHotEncoder\n",
    "    enc = OneHotEncoder(n_values=n_values)    \n",
    "    one_hot_encoded_labels = enc.fit_transform(np.array(x).reshape(-1, 1)).toarray()\n",
    "    return one_hot_encoded_labels\n",
    "\n",
    "\n",
    "\"\"\"\n",
    "DON'T MODIFY ANYTHING IN THIS CELL THAT IS BELOW THIS LINE\n",
    "\"\"\"\n",
    "tests.test_one_hot_encode(one_hot_encode)"
   ]
  },
  {
   "cell_type": "markdown",
   "metadata": {},
   "source": [
    "### Randomize Data\n",
    "As you saw from exploring the data above, the order of the samples are randomized.  It doesn't hurt to randomize it again, but you don't need to for this dataset."
   ]
  },
  {
   "cell_type": "markdown",
   "metadata": {},
   "source": [
    "## Preprocess all the data and save it\n",
    "Running the code cell below will preprocess all the CIFAR-10 data and save it to file. The code below also uses 10% of the training data for validation."
   ]
  },
  {
   "cell_type": "code",
   "execution_count": 60,
   "metadata": {},
   "outputs": [
    {
     "name": "stderr",
     "output_type": "stream",
     "text": [
      "C:\\Users\\naman\\Anaconda3\\lib\\site-packages\\sklearn\\preprocessing\\_encoders.py:331: DeprecationWarning: Passing 'n_values' is deprecated in version 0.20 and will be removed in 0.22. You can use the 'categories' keyword instead. 'n_values=n' corresponds to 'categories=[range(n)]'.\n",
      "  warnings.warn(msg, DeprecationWarning)\n",
      "C:\\Users\\naman\\Anaconda3\\lib\\site-packages\\sklearn\\preprocessing\\_encoders.py:331: DeprecationWarning: Passing 'n_values' is deprecated in version 0.20 and will be removed in 0.22. You can use the 'categories' keyword instead. 'n_values=n' corresponds to 'categories=[range(n)]'.\n",
      "  warnings.warn(msg, DeprecationWarning)\n",
      "C:\\Users\\naman\\Anaconda3\\lib\\site-packages\\sklearn\\preprocessing\\_encoders.py:331: DeprecationWarning: Passing 'n_values' is deprecated in version 0.20 and will be removed in 0.22. You can use the 'categories' keyword instead. 'n_values=n' corresponds to 'categories=[range(n)]'.\n",
      "  warnings.warn(msg, DeprecationWarning)\n",
      "C:\\Users\\naman\\Anaconda3\\lib\\site-packages\\sklearn\\preprocessing\\_encoders.py:331: DeprecationWarning: Passing 'n_values' is deprecated in version 0.20 and will be removed in 0.22. You can use the 'categories' keyword instead. 'n_values=n' corresponds to 'categories=[range(n)]'.\n",
      "  warnings.warn(msg, DeprecationWarning)\n",
      "C:\\Users\\naman\\Anaconda3\\lib\\site-packages\\sklearn\\preprocessing\\_encoders.py:331: DeprecationWarning: Passing 'n_values' is deprecated in version 0.20 and will be removed in 0.22. You can use the 'categories' keyword instead. 'n_values=n' corresponds to 'categories=[range(n)]'.\n",
      "  warnings.warn(msg, DeprecationWarning)\n",
      "C:\\Users\\naman\\Anaconda3\\lib\\site-packages\\sklearn\\preprocessing\\_encoders.py:331: DeprecationWarning: Passing 'n_values' is deprecated in version 0.20 and will be removed in 0.22. You can use the 'categories' keyword instead. 'n_values=n' corresponds to 'categories=[range(n)]'.\n",
      "  warnings.warn(msg, DeprecationWarning)\n",
      "C:\\Users\\naman\\Anaconda3\\lib\\site-packages\\sklearn\\preprocessing\\_encoders.py:331: DeprecationWarning: Passing 'n_values' is deprecated in version 0.20 and will be removed in 0.22. You can use the 'categories' keyword instead. 'n_values=n' corresponds to 'categories=[range(n)]'.\n",
      "  warnings.warn(msg, DeprecationWarning)\n"
     ]
    }
   ],
   "source": [
    "\"\"\"\n",
    "DON'T MODIFY ANYTHING IN THIS CELL\n",
    "\"\"\"\n",
    "# Preprocess Training, Validation, and Testing Data\n",
    "helper.preprocess_and_save_data(cifar10_dataset_folder_path, normalize, one_hot_encode)"
   ]
  },
  {
   "cell_type": "markdown",
   "metadata": {},
   "source": [
    "# Check Point\n",
    "This is your first checkpoint.  If you ever decide to come back to this notebook or have to restart the notebook, you can start from here.  The preprocessed data has been saved to disk."
   ]
  },
  {
   "cell_type": "code",
   "execution_count": 61,
   "metadata": {},
   "outputs": [],
   "source": [
    "\"\"\"\n",
    "DON'T MODIFY ANYTHING IN THIS CELL\n",
    "\"\"\"\n",
    "import pickle\n",
    "import problem_unittests as tests\n",
    "import helper\n",
    "\n",
    "# Load the Preprocessed Validation data\n",
    "valid_features, valid_labels = pickle.load(open('preprocess_validation.p', mode='rb'))"
   ]
  },
  {
   "cell_type": "markdown",
   "metadata": {},
   "source": [
    "## Build the network\n",
    "For the neural network, you'll build each layer into a function.  Most of the code you've seen has been outside of functions. To test your code more thoroughly, we require that you put each layer in a function.  This allows us to give you better feedback and test for simple mistakes using our unittests before you submit your project.\n",
    "\n",
    ">**Note:** If you're finding it hard to dedicate enough time for this course each week, we've provided a small shortcut to this part of the project. In the next couple of problems, you'll have the option to use classes from the [TensorFlow Layers](https://www.tensorflow.org/api_docs/python/tf/layers) or [TensorFlow Layers (contrib)](https://www.tensorflow.org/api_guides/python/contrib.layers) packages to build each layer, except the layers you build in the \"Convolutional and Max Pooling Layer\" section.  TF Layers is similar to Keras's and TFLearn's abstraction to layers, so it's easy to pickup.\n",
    "\n",
    ">However, if you would like to get the most out of this course, try to solve all the problems _without_ using anything from the TF Layers packages. You **can** still use classes from other packages that happen to have the same name as ones you find in TF Layers! For example, instead of using the TF Layers version of the `conv2d` class, [tf.layers.conv2d](https://www.tensorflow.org/api_docs/python/tf/layers/conv2d), you would want to use the TF Neural Network version of `conv2d`, [tf.nn.conv2d](https://www.tensorflow.org/api_docs/python/tf/nn/conv2d). \n",
    "\n",
    "Let's begin!\n",
    "\n",
    "### Input\n",
    "The neural network needs to read the image data, one-hot encoded labels, and dropout keep probability. Implement the following functions\n",
    "* Implement `neural_net_image_input`\n",
    " * Return a [TF Placeholder](https://www.tensorflow.org/api_docs/python/tf/placeholder)\n",
    " * Set the shape using `image_shape` with batch size set to `None`.\n",
    " * Name the TensorFlow placeholder \"x\" using the TensorFlow `name` parameter in the [TF Placeholder](https://www.tensorflow.org/api_docs/python/tf/placeholder).\n",
    "* Implement `neural_net_label_input`\n",
    " * Return a [TF Placeholder](https://www.tensorflow.org/api_docs/python/tf/placeholder)\n",
    " * Set the shape using `n_classes` with batch size set to `None`.\n",
    " * Name the TensorFlow placeholder \"y\" using the TensorFlow `name` parameter in the [TF Placeholder](https://www.tensorflow.org/api_docs/python/tf/placeholder).\n",
    "* Implement `neural_net_keep_prob_input`\n",
    " * Return a [TF Placeholder](https://www.tensorflow.org/api_docs/python/tf/placeholder) for dropout keep probability.\n",
    " * Name the TensorFlow placeholder \"keep_prob\" using the TensorFlow `name` parameter in the [TF Placeholder](https://www.tensorflow.org/api_docs/python/tf/placeholder).\n",
    "\n",
    "These names will be used at the end of the project to load your saved model.\n",
    "\n",
    "Note: `None` for shapes in TensorFlow allow for a dynamic size."
   ]
  },
  {
   "cell_type": "code",
   "execution_count": 62,
   "metadata": {},
   "outputs": [
    {
     "name": "stdout",
     "output_type": "stream",
     "text": [
      "Image Input Tests Passed.\n",
      "Label Input Tests Passed.\n",
      "Keep Prob Tests Passed.\n"
     ]
    }
   ],
   "source": [
    "import tensorflow as tf\n",
    "\n",
    "def neural_net_image_input(image_shape):\n",
    "    \"\"\"\n",
    "    Return a Tensor for a batch of image input\n",
    "    : image_shape: Shape of the images\n",
    "    : return: Tensor for image input.\n",
    "    \"\"\"\n",
    "    # TODO: Implement Function\n",
    "    return tf.placeholder(tf.float32, shape=((None,) + image_shape), name='x')\n",
    "\n",
    "\n",
    "def neural_net_label_input(n_classes):\n",
    "    \"\"\"\n",
    "    Return a Tensor for a batch of label input\n",
    "    : n_classes: Number of classes\n",
    "    : return: Tensor for label input.\n",
    "    \"\"\"\n",
    "    # TODO: Implement Function\n",
    "    n_classes= (None, n_classes) \n",
    "    return tf.compat.v1.placeholder(tf.float32, shape=n_classes , name='y')\n",
    "\n",
    "\n",
    "def neural_net_keep_prob_input():\n",
    "    \"\"\"\n",
    "    Return a Tensor for keep probability\n",
    "    : return: Tensor for keep probability.\n",
    "    \"\"\"\n",
    "    # TODO: Implement Function\n",
    "    return tf.compat.v1.placeholder(tf.float32, name='keep_prob')\n",
    "\n",
    "\n",
    "\"\"\"\n",
    "DON'T MODIFY ANYTHING IN THIS CELL THAT IS BELOW THIS LINE\n",
    "\"\"\"\n",
    "tf.reset_default_graph()\n",
    "tests.test_nn_image_inputs(neural_net_image_input)\n",
    "tests.test_nn_label_inputs(neural_net_label_input)\n",
    "tests.test_nn_keep_prob_inputs(neural_net_keep_prob_input)"
   ]
  },
  {
   "cell_type": "markdown",
   "metadata": {},
   "source": [
    "### Convolution and Max Pooling Layer\n",
    "Convolution layers have a lot of success with images. For this code cell, you should implement the function `conv2d_maxpool` to apply convolution then max pooling:\n",
    "* Create the weight and bias using `conv_ksize`, `conv_num_outputs` and the shape of `x_tensor`.\n",
    "* Apply a convolution to `x_tensor` using weight and `conv_strides`.\n",
    " * We recommend you use same padding, but you're welcome to use any padding.\n",
    "* Add bias\n",
    "* Add a nonlinear activation to the convolution.\n",
    "* Apply Max Pooling using `pool_ksize` and `pool_strides`.\n",
    " * We recommend you use same padding, but you're welcome to use any padding.\n",
    "\n",
    "**Note:** You **can't** use [TensorFlow Layers](https://www.tensorflow.org/api_docs/python/tf/layers) or [TensorFlow Layers (contrib)](https://www.tensorflow.org/api_guides/python/contrib.layers) for **this** layer, but you can still use TensorFlow's [Neural Network](https://www.tensorflow.org/api_docs/python/tf/nn) package. You may still use the shortcut option for all the **other** layers.\n",
    "\n",
    "** Hint: **\n",
    "\n",
    "When unpacking values as an argument in Python, look into the [unpacking](https://docs.python.org/3/tutorial/controlflow.html#unpacking-argument-lists) operator. "
   ]
  },
  {
   "cell_type": "code",
   "execution_count": 50,
   "metadata": {},
   "outputs": [
    {
     "name": "stdout",
     "output_type": "stream",
     "text": [
      "Tests Passed\n"
     ]
    }
   ],
   "source": [
    "def conv2d_maxpool(x_tensor, conv_num_outputs, conv_ksize, conv_strides, pool_ksize, pool_strides):\n",
    "    \"\"\"\n",
    "    Apply convolution then max pooling to x_tensor\n",
    "    :param x_tensor: TensorFlow Tensor\n",
    "    :param conv_num_outputs: Number of outputs for the convolutional layer\n",
    "    :param conv_ksize: kernal size 2-D Tuple for the convolutional layer\n",
    "    :param conv_strides: Stride 2-D Tuple for convolution\n",
    "    :param pool_ksize: kernal size 2-D Tuple for pool\n",
    "    :param pool_strides: Stride 2-D Tuple for pool\n",
    "    : return: A tensor that represents convolution and max pooling of x_tensor\n",
    "    \"\"\"\n",
    "    # TODO: Implement Function\n",
    "    weights_shape = list(conv_ksize) + [x_tensor.get_shape().as_list()[3], conv_num_outputs]\n",
    "    # Define our trainable variables.\n",
    "    weights = tf.Variable(tf.truncated_normal(weights_shape, stddev=5e-2))\n",
    "    bias = tf.Variable(tf.zeros(conv_num_outputs))\n",
    "    \n",
    "    output = tf.nn.conv2d(x_tensor, weights, strides=[1, conv_strides[0], conv_strides[1], 1], padding='SAME')\n",
    "    output = tf.nn.bias_add(output, bias)\n",
    "    output = tf.nn.relu(output)\n",
    "    \n",
    "    output = tf.nn.max_pool(output, \n",
    "                            ksize=[1, pool_ksize[0], pool_ksize[1], 1], \n",
    "                            strides=[1, pool_strides[0], pool_strides[1], 1],\n",
    "                            padding='SAME')  \n",
    "    \n",
    "    return output\n",
    "\n",
    "\n",
    "\"\"\"\n",
    "DON'T MODIFY ANYTHING IN THIS CELL THAT IS BELOW THIS LINE\n",
    "\"\"\"\n",
    "tests.test_con_pool(conv2d_maxpool)"
   ]
  },
  {
   "cell_type": "markdown",
   "metadata": {},
   "source": [
    "### Flatten Layer\n",
    "Implement the `flatten` function to change the dimension of `x_tensor` from a 4-D tensor to a 2-D tensor.  The output should be the shape (*Batch Size*, *Flattened Image Size*). Shortcut option: you can use classes from the [TensorFlow Layers](https://www.tensorflow.org/api_docs/python/tf/layers) or [TensorFlow Layers (contrib)](https://www.tensorflow.org/api_guides/python/contrib.layers) packages for this layer. For more of a challenge, only use other TensorFlow packages."
   ]
  },
  {
   "cell_type": "code",
   "execution_count": 51,
   "metadata": {},
   "outputs": [
    {
     "name": "stdout",
     "output_type": "stream",
     "text": [
      "Tests Passed\n"
     ]
    }
   ],
   "source": [
    "def flatten(x_tensor):\n",
    "    \"\"\"\n",
    "    Flatten x_tensor to (Batch Size, Flattened Image Size)\n",
    "    : x_tensor: A tensor of size (Batch Size, ...), where ... are the image dimensions.\n",
    "    : return: A tensor of size (Batch Size, Flattened Image Size).\n",
    "    \"\"\"\n",
    "    # TODO: Implement Function\n",
    "    y=tf.compat.v1.layers.flatten(x_tensor)\n",
    "    return y\n",
    "\n",
    "\n",
    "\"\"\"\n",
    "DON'T MODIFY ANYTHING IN THIS CELL THAT IS BELOW THIS LINE\n",
    "\"\"\"\n",
    "tests.test_flatten(flatten)"
   ]
  },
  {
   "cell_type": "markdown",
   "metadata": {},
   "source": [
    "### Fully-Connected Layer\n",
    "Implement the `fully_conn` function to apply a fully connected layer to `x_tensor` with the shape (*Batch Size*, *num_outputs*). Shortcut option: you can use classes from the [TensorFlow Layers](https://www.tensorflow.org/api_docs/python/tf/layers) or [TensorFlow Layers (contrib)](https://www.tensorflow.org/api_guides/python/contrib.layers) packages for this layer. For more of a challenge, only use other TensorFlow packages."
   ]
  },
  {
   "cell_type": "code",
   "execution_count": 52,
   "metadata": {},
   "outputs": [
    {
     "name": "stdout",
     "output_type": "stream",
     "text": [
      "Tests Passed\n"
     ]
    }
   ],
   "source": [
    "def fully_conn(x_tensor, num_outputs):\n",
    "    \"\"\"\n",
    "    Apply a fully connected layer to x_tensor using weight and bias\n",
    "    : x_tensor: A 2-D tensor where the first dimension is batch size.\n",
    "    : num_outputs: The number of output that the new tensor should be.\n",
    "    : return: A 2-D tensor where the second dimension is num_outputs.\n",
    "    \"\"\"\n",
    "    # TODO: Implement Function\n",
    "    y=tf.contrib.layers.fully_connected(x_tensor,num_outputs)\n",
    "    return y\n",
    "\n",
    "\n",
    "\"\"\"\n",
    "DON'T MODIFY ANYTHING IN THIS CELL THAT IS BELOW THIS LINE\n",
    "\"\"\"\n",
    "tests.test_fully_conn(fully_conn)"
   ]
  },
  {
   "cell_type": "markdown",
   "metadata": {},
   "source": [
    "### Output Layer\n",
    "Implement the `output` function to apply a fully connected layer to `x_tensor` with the shape (*Batch Size*, *num_outputs*). Shortcut option: you can use classes from the [TensorFlow Layers](https://www.tensorflow.org/api_docs/python/tf/layers) or [TensorFlow Layers (contrib)](https://www.tensorflow.org/api_guides/python/contrib.layers) packages for this layer. For more of a challenge, only use other TensorFlow packages.\n",
    "\n",
    "**Note:** Activation, softmax, or cross entropy should **not** be applied to this."
   ]
  },
  {
   "cell_type": "code",
   "execution_count": 53,
   "metadata": {},
   "outputs": [
    {
     "name": "stdout",
     "output_type": "stream",
     "text": [
      "Tests Passed\n"
     ]
    }
   ],
   "source": [
    "def output(x_tensor, num_outputs):\n",
    "    \"\"\"\n",
    "    Apply a output layer to x_tensor using weight and bias\n",
    "    : x_tensor: A 2-D tensor where the first dimension is batch size.\n",
    "    : num_outputs: The number of output that the new tensor should be.\n",
    "    : return: A 2-D tensor where the second dimension is num_outputs.\n",
    "    \"\"\"\n",
    "    # TODO: Implement Function\n",
    "    y=tf.contrib.layers.fully_connected(x_tensor,num_outputs)\n",
    "    return y\n",
    "\n",
    "\n",
    "\"\"\"\n",
    "DON'T MODIFY ANYTHING IN THIS CELL THAT IS BELOW THIS LINE\n",
    "\"\"\"\n",
    "tests.test_output(output)"
   ]
  },
  {
   "cell_type": "markdown",
   "metadata": {},
   "source": [
    "### Create Convolutional Model\n",
    "Implement the function `conv_net` to create a convolutional neural network model. The function takes in a batch of images, `x`, and outputs logits.  Use the layers you created above to create this model:\n",
    "\n",
    "* Apply 1, 2, or 3 Convolution and Max Pool layers\n",
    "* Apply a Flatten Layer\n",
    "* Apply 1, 2, or 3 Fully Connected Layers\n",
    "* Apply an Output Layer\n",
    "* Return the output\n",
    "* Apply [TensorFlow's Dropout](https://www.tensorflow.org/api_docs/python/tf/nn/dropout) to one or more layers in the model using `keep_prob`. "
   ]
  },
  {
   "cell_type": "code",
   "execution_count": 54,
   "metadata": {},
   "outputs": [
    {
     "name": "stdout",
     "output_type": "stream",
     "text": [
      "Neural Network Built!\n"
     ]
    }
   ],
   "source": [
    "def conv_net(x, keep_prob,num_classes=10):\n",
    "    \"\"\"\n",
    "    Create a convolutional neural network model\n",
    "    : x: Placeholder tensor that holds image data.\n",
    "    : keep_prob: Placeholder tensor that hold dropout keep probability.\n",
    "    : return: Tensor that represents logits\n",
    "    \"\"\"\n",
    "    # TODO: Apply 1, 2, or 3 Convolution and Max Pool layers\n",
    "    #    Play around with different number of outputs, kernel size and stride\n",
    "    # Function Definition from Above:\n",
    "    #    conv2d_maxpool(x_tensor, conv_num_outputs, conv_ksize, conv_strides, pool_ksize, pool_strides)\n",
    "    conv = conv2d_maxpool(x,conv_num_outputs =64 ,\n",
    "                          conv_ksize = [5,5], \n",
    "                          conv_strides = [1,1], \n",
    "                          pool_ksize = [3,3], \n",
    "                          pool_strides = [2,2])\n",
    "    \n",
    "    conv = conv2d_maxpool(x,conv_num_outputs =64 ,\n",
    "                          conv_ksize = [5,5], \n",
    "                          conv_strides = [1,1], \n",
    "                          pool_ksize = [3,3], \n",
    "                          pool_strides = [2,2])\n",
    "    \n",
    "\n",
    "    # TODO: Apply a Flatten Layer\n",
    "    # Function Definition from Above:\n",
    "    #   flatten(x_tensor)\n",
    "    flat = flatten(conv)\n",
    "\n",
    "    # TODO: Apply 1, 2, or 3 Fully Connected Layers\n",
    "    #    Play around with different number of outputs\n",
    "    # Function Definition from Above:\n",
    "    #   fully_conn(x_tensor, num_outputs)\n",
    "    full = fully_conn(flat,384)\n",
    "    full = fully_conn(flat,19)\n",
    "    \n",
    "    # TODO: Apply an Output Layer\n",
    "    #    Set this to the number of classes\n",
    "    # Function Definition from Above:\n",
    "    #   output(x_tensor, num_outputs)\n",
    "    full = tf.nn.dropout(full,keep_prob)\n",
    "    full = output(full,num_classes)\n",
    "    \n",
    "    \n",
    "    # TODO: return output\n",
    "    return full\n",
    "\n",
    "\n",
    "\"\"\"\n",
    "DON'T MODIFY ANYTHING IN THIS CELL THAT IS BELOW THIS LINE\n",
    "\"\"\"\n",
    "\n",
    "##############################\n",
    "## Build the Neural Network ##\n",
    "##############################\n",
    "\n",
    "# Remove previous weights, bias, inputs, etc..\n",
    "tf.reset_default_graph()\n",
    "\n",
    "# Inputs\n",
    "x = neural_net_image_input((32, 32, 3))\n",
    "y = neural_net_label_input(10)\n",
    "keep_prob = neural_net_keep_prob_input()\n",
    "\n",
    "# Model\n",
    "logits = conv_net(x, keep_prob)\n",
    "\n",
    "# Name logits Tensor, so that is can be loaded from disk after training\n",
    "logits = tf.identity(logits, name='logits')\n",
    "\n",
    "# Loss and Optimizer\n",
    "cost = tf.reduce_mean(tf.nn.softmax_cross_entropy_with_logits(logits=logits, labels=y))\n",
    "optimizer = tf.train.AdamOptimizer().minimize(cost)\n",
    "\n",
    "# Accuracy\n",
    "correct_pred = tf.equal(tf.argmax(logits, 1), tf.argmax(y, 1))\n",
    "accuracy = tf.reduce_mean(tf.cast(correct_pred, tf.float32), name='accuracy')\n",
    "\n",
    "tests.test_conv_net(conv_net)"
   ]
  },
  {
   "cell_type": "markdown",
   "metadata": {},
   "source": [
    "## Train the Neural Network\n",
    "### Single Optimization\n",
    "Implement the function `train_neural_network` to do a single optimization.  The optimization should use `optimizer` to optimize in `session` with a `feed_dict` of the following:\n",
    "* `x` for image input\n",
    "* `y` for labels\n",
    "* `keep_prob` for keep probability for dropout\n",
    "\n",
    "This function will be called for each batch, so `tf.global_variables_initializer()` has already been called.\n",
    "\n",
    "Note: Nothing needs to be returned. This function is only optimizing the neural network."
   ]
  },
  {
   "cell_type": "code",
   "execution_count": 55,
   "metadata": {},
   "outputs": [
    {
     "name": "stdout",
     "output_type": "stream",
     "text": [
      "Tests Passed\n"
     ]
    }
   ],
   "source": [
    "def train_neural_network(session, optimizer, keep_probability, feature_batch, label_batch):\n",
    "    \"\"\"\n",
    "    Optimize the session on a batch of images and labels\n",
    "    : session: Current TensorFlow session\n",
    "    : optimizer: TensorFlow optimizer function\n",
    "    : keep_probability: keep probability\n",
    "    : feature_batch: Batch of Numpy image data\n",
    "    : label_batch: Batch of Numpy label data\n",
    "    \"\"\"\n",
    "    # TODO: Implement Function\n",
    "    session.run(optimizer , feed_dict = {x: feature_batch,\n",
    "                                        y:label_batch,\n",
    "                                        keep_prob : keep_probability})\n",
    "\n",
    "\n",
    "\"\"\"\n",
    "DON'T MODIFY ANYTHING IN THIS CELL THAT IS BELOW THIS LINE\n",
    "\"\"\"\n",
    "tests.test_train_nn(train_neural_network)"
   ]
  },
  {
   "cell_type": "markdown",
   "metadata": {},
   "source": [
    "### Show Stats\n",
    "Implement the function `print_stats` to print loss and validation accuracy.  Use the global variables `valid_features` and `valid_labels` to calculate validation accuracy.  Use a keep probability of `1.0` to calculate the loss and validation accuracy."
   ]
  },
  {
   "cell_type": "code",
   "execution_count": 56,
   "metadata": {},
   "outputs": [],
   "source": [
    "def print_stats(session, feature_batch, label_batch, cost, accuracy):\n",
    "    \"\"\"\n",
    "    Print information about loss and validation accuracy\n",
    "    : session: Current TensorFlow session\n",
    "    : feature_batch: Batch of Numpy image data\n",
    "    : label_batch: Batch of Numpy label data\n",
    "    : cost: TensorFlow cost function\n",
    "    : accuracy: TensorFlow accuracy function\n",
    "    \"\"\"\n",
    "    # Implement Function\n",
    "    loss = session.run(cost,feed_dict={x:feature_batch,\n",
    "                                      y :label_batch,\n",
    "                                      keep_prob:1.})\n",
    "    valid = session.run(accuracy,feed_dict = {x:valid_features,\n",
    "                                             y:valid_labels,\n",
    "                                             keep_prob : 1.})\n",
    "    print('The loss is :{:.4f} and the validation accuracy is : {:.6f}'.format(loss,valid))\n",
    "    "
   ]
  },
  {
   "cell_type": "markdown",
   "metadata": {},
   "source": [
    "### Hyperparameters\n",
    "Tune the following parameters:\n",
    "* Set `epochs` to the number of iterations until the network stops learning or start overfitting\n",
    "* Set `batch_size` to the highest number that your machine has memory for.  Most people set them to common sizes of memory:\n",
    " * 64\n",
    " * 128\n",
    " * 256\n",
    " * ...\n",
    "* Set `keep_probability` to the probability of keeping a node using dropout"
   ]
  },
  {
   "cell_type": "code",
   "execution_count": 57,
   "metadata": {},
   "outputs": [],
   "source": [
    "# TODO: Tune Parameters\n",
    "epochs = 10\n",
    "batch_size = 256\n",
    "keep_probability = .77"
   ]
  },
  {
   "cell_type": "markdown",
   "metadata": {},
   "source": [
    "### Train on a Single CIFAR-10 Batch\n",
    "Instead of training the neural network on all the CIFAR-10 batches of data, let's use a single batch. This should save time while you iterate on the model to get a better accuracy.  Once the final validation accuracy is 50% or greater, run the model on all the data in the next section."
   ]
  },
  {
   "cell_type": "code",
   "execution_count": 58,
   "metadata": {},
   "outputs": [
    {
     "name": "stdout",
     "output_type": "stream",
     "text": [
      "Checking the Training on a Single Batch...\n",
      "Epoch  1, CIFAR-10 Batch 1:  The loss is :2.2728 and the validation accuracy is : 0.195400\n",
      "Epoch  2, CIFAR-10 Batch 1:  The loss is :2.2556 and the validation accuracy is : 0.248200\n",
      "Epoch  3, CIFAR-10 Batch 1:  The loss is :2.2003 and the validation accuracy is : 0.254800\n",
      "Epoch  4, CIFAR-10 Batch 1:  The loss is :2.1446 and the validation accuracy is : 0.263400\n",
      "Epoch  5, CIFAR-10 Batch 1:  The loss is :2.0800 and the validation accuracy is : 0.275400\n",
      "Epoch  6, CIFAR-10 Batch 1:  The loss is :2.0266 and the validation accuracy is : 0.279800\n",
      "Epoch  7, CIFAR-10 Batch 1:  The loss is :1.9655 and the validation accuracy is : 0.301400\n",
      "Epoch  8, CIFAR-10 Batch 1:  The loss is :1.9312 and the validation accuracy is : 0.293000\n",
      "Epoch  9, CIFAR-10 Batch 1:  The loss is :1.9098 and the validation accuracy is : 0.312000\n",
      "Epoch 10, CIFAR-10 Batch 1:  The loss is :1.8570 and the validation accuracy is : 0.316400\n"
     ]
    }
   ],
   "source": [
    "\"\"\"\n",
    "DON'T MODIFY ANYTHING IN THIS CELL\n",
    "\"\"\"\n",
    "print('Checking the Training on a Single Batch...')\n",
    "with tf.Session() as sess:\n",
    "    # Initializing the variables\n",
    "    sess.run(tf.global_variables_initializer())\n",
    "    \n",
    "    # Training cycle\n",
    "    for epoch in range(epochs):\n",
    "        batch_i = 1\n",
    "        for batch_features, batch_labels in helper.load_preprocess_training_batch(batch_i, batch_size):\n",
    "            train_neural_network(sess, optimizer, keep_probability, batch_features, batch_labels)\n",
    "        print('Epoch {:>2}, CIFAR-10 Batch {}:  '.format(epoch + 1, batch_i), end='')\n",
    "        print_stats(sess, batch_features, batch_labels, cost, accuracy)"
   ]
  },
  {
   "cell_type": "markdown",
   "metadata": {},
   "source": [
    "### Fully Train the Model\n",
    "Now that you got a good accuracy with a single CIFAR-10 batch, try it with all five batches."
   ]
  },
  {
   "cell_type": "code",
   "execution_count": 29,
   "metadata": {},
   "outputs": [
    {
     "name": "stdout",
     "output_type": "stream",
     "text": [
      "Training...\n",
      "Epoch  1, CIFAR-10 Batch 1:  The loss is :2.2400 and the validation accuracy is : 0.199200\n",
      "Epoch  1, CIFAR-10 Batch 2:  The loss is :2.1905 and the validation accuracy is : 0.197200\n",
      "Epoch  1, CIFAR-10 Batch 3:  The loss is :2.1950 and the validation accuracy is : 0.187600\n",
      "Epoch  1, CIFAR-10 Batch 4:  The loss is :2.2485 and the validation accuracy is : 0.194200\n",
      "Epoch  1, CIFAR-10 Batch 5:  The loss is :2.1996 and the validation accuracy is : 0.222800\n",
      "Epoch  2, CIFAR-10 Batch 1:  The loss is :2.1486 and the validation accuracy is : 0.256000\n",
      "Epoch  2, CIFAR-10 Batch 2:  The loss is :2.0273 and the validation accuracy is : 0.274800\n",
      "Epoch  2, CIFAR-10 Batch 3:  The loss is :2.0735 and the validation accuracy is : 0.293400\n",
      "Epoch  2, CIFAR-10 Batch 4:  The loss is :2.1777 and the validation accuracy is : 0.283400\n",
      "Epoch  2, CIFAR-10 Batch 5:  The loss is :2.1188 and the validation accuracy is : 0.293800\n",
      "Epoch  3, CIFAR-10 Batch 1:  The loss is :1.9947 and the validation accuracy is : 0.299400\n",
      "Epoch  3, CIFAR-10 Batch 2:  The loss is :1.8940 and the validation accuracy is : 0.302800\n",
      "Epoch  3, CIFAR-10 Batch 3:  The loss is :1.9375 and the validation accuracy is : 0.312000\n",
      "Epoch  3, CIFAR-10 Batch 4:  The loss is :2.1034 and the validation accuracy is : 0.301200\n",
      "Epoch  3, CIFAR-10 Batch 5:  The loss is :2.0273 and the validation accuracy is : 0.293400\n",
      "Epoch  4, CIFAR-10 Batch 1:  The loss is :1.9025 and the validation accuracy is : 0.312600\n",
      "Epoch  4, CIFAR-10 Batch 2:  The loss is :1.8184 and the validation accuracy is : 0.312600\n",
      "Epoch  4, CIFAR-10 Batch 3:  The loss is :1.8892 and the validation accuracy is : 0.314400\n",
      "Epoch  4, CIFAR-10 Batch 4:  The loss is :2.0654 and the validation accuracy is : 0.310800\n",
      "Epoch  4, CIFAR-10 Batch 5:  The loss is :1.9984 and the validation accuracy is : 0.320800\n",
      "Epoch  5, CIFAR-10 Batch 1:  The loss is :1.8401 and the validation accuracy is : 0.306600\n",
      "Epoch  5, CIFAR-10 Batch 2:  The loss is :1.7843 and the validation accuracy is : 0.313400\n",
      "Epoch  5, CIFAR-10 Batch 3:  The loss is :1.8374 and the validation accuracy is : 0.325400\n",
      "Epoch  5, CIFAR-10 Batch 4:  The loss is :2.0261 and the validation accuracy is : 0.323800\n",
      "Epoch  5, CIFAR-10 Batch 5:  The loss is :1.9662 and the validation accuracy is : 0.332000\n",
      "Epoch  6, CIFAR-10 Batch 1:  The loss is :1.8576 and the validation accuracy is : 0.329200\n",
      "Epoch  6, CIFAR-10 Batch 2:  The loss is :1.7265 and the validation accuracy is : 0.334600\n",
      "Epoch  6, CIFAR-10 Batch 3:  The loss is :1.8029 and the validation accuracy is : 0.331000\n",
      "Epoch  6, CIFAR-10 Batch 4:  The loss is :2.0148 and the validation accuracy is : 0.327800\n",
      "Epoch  6, CIFAR-10 Batch 5:  The loss is :1.9301 and the validation accuracy is : 0.337600\n",
      "Epoch  7, CIFAR-10 Batch 1:  The loss is :1.8242 and the validation accuracy is : 0.330000\n",
      "Epoch  7, CIFAR-10 Batch 2:  The loss is :1.7392 and the validation accuracy is : 0.335400\n",
      "Epoch  7, CIFAR-10 Batch 3:  The loss is :1.7974 and the validation accuracy is : 0.328200\n",
      "Epoch  7, CIFAR-10 Batch 4:  The loss is :1.9949 and the validation accuracy is : 0.334800\n",
      "Epoch  7, CIFAR-10 Batch 5:  The loss is :1.9537 and the validation accuracy is : 0.334000\n",
      "Epoch  8, CIFAR-10 Batch 1:  The loss is :1.7824 and the validation accuracy is : 0.338800\n",
      "Epoch  8, CIFAR-10 Batch 2:  The loss is :1.7133 and the validation accuracy is : 0.335000\n",
      "Epoch  8, CIFAR-10 Batch 3:  The loss is :1.7667 and the validation accuracy is : 0.333800\n",
      "Epoch  8, CIFAR-10 Batch 4:  The loss is :1.9748 and the validation accuracy is : 0.340400\n",
      "Epoch  8, CIFAR-10 Batch 5:  The loss is :1.9051 and the validation accuracy is : 0.339000\n",
      "Epoch  9, CIFAR-10 Batch 1:  The loss is :1.7576 and the validation accuracy is : 0.336800\n",
      "Epoch  9, CIFAR-10 Batch 2:  The loss is :1.6700 and the validation accuracy is : 0.337600\n",
      "Epoch  9, CIFAR-10 Batch 3:  The loss is :1.7944 and the validation accuracy is : 0.325800\n",
      "Epoch  9, CIFAR-10 Batch 4:  The loss is :1.9857 and the validation accuracy is : 0.317200\n",
      "Epoch  9, CIFAR-10 Batch 5:  The loss is :1.8853 and the validation accuracy is : 0.342800\n",
      "Epoch 10, CIFAR-10 Batch 1:  The loss is :1.7442 and the validation accuracy is : 0.341800\n",
      "Epoch 10, CIFAR-10 Batch 2:  The loss is :1.6804 and the validation accuracy is : 0.335400\n",
      "Epoch 10, CIFAR-10 Batch 3:  The loss is :1.7700 and the validation accuracy is : 0.326600\n",
      "Epoch 10, CIFAR-10 Batch 4:  The loss is :1.9648 and the validation accuracy is : 0.331400\n",
      "Epoch 10, CIFAR-10 Batch 5:  The loss is :1.8861 and the validation accuracy is : 0.339200\n",
      "Epoch 11, CIFAR-10 Batch 1:  The loss is :1.7349 and the validation accuracy is : 0.340000\n",
      "Epoch 11, CIFAR-10 Batch 2:  The loss is :1.6566 and the validation accuracy is : 0.340600\n",
      "Epoch 11, CIFAR-10 Batch 3:  The loss is :1.7427 and the validation accuracy is : 0.337400\n",
      "Epoch 11, CIFAR-10 Batch 4:  The loss is :1.9367 and the validation accuracy is : 0.340400\n",
      "Epoch 11, CIFAR-10 Batch 5:  The loss is :1.8571 and the validation accuracy is : 0.344200\n",
      "Epoch 12, CIFAR-10 Batch 1:  The loss is :1.7159 and the validation accuracy is : 0.339000\n",
      "Epoch 12, CIFAR-10 Batch 2:  The loss is :1.6732 and the validation accuracy is : 0.331800\n",
      "Epoch 12, CIFAR-10 Batch 3:  The loss is :1.7496 and the validation accuracy is : 0.337000\n",
      "Epoch 12, CIFAR-10 Batch 4:  The loss is :1.9327 and the validation accuracy is : 0.340200\n",
      "Epoch 12, CIFAR-10 Batch 5:  The loss is :1.8654 and the validation accuracy is : 0.341400\n",
      "Epoch 13, CIFAR-10 Batch 1:  The loss is :1.6944 and the validation accuracy is : 0.327200\n",
      "Epoch 13, CIFAR-10 Batch 2:  The loss is :1.6421 and the validation accuracy is : 0.340200\n",
      "Epoch 13, CIFAR-10 Batch 3:  The loss is :1.7323 and the validation accuracy is : 0.337800\n",
      "Epoch 13, CIFAR-10 Batch 4:  The loss is :1.9306 and the validation accuracy is : 0.336400\n",
      "Epoch 13, CIFAR-10 Batch 5:  The loss is :1.8333 and the validation accuracy is : 0.334200\n",
      "Epoch 14, CIFAR-10 Batch 1:  The loss is :1.6919 and the validation accuracy is : 0.340200\n",
      "Epoch 14, CIFAR-10 Batch 2:  The loss is :1.6329 and the validation accuracy is : 0.339400\n",
      "Epoch 14, CIFAR-10 Batch 3:  The loss is :1.7419 and the validation accuracy is : 0.336600\n",
      "Epoch 14, CIFAR-10 Batch 4:  The loss is :1.9180 and the validation accuracy is : 0.337400\n",
      "Epoch 14, CIFAR-10 Batch 5:  The loss is :1.8468 and the validation accuracy is : 0.336600\n",
      "Epoch 15, CIFAR-10 Batch 1:  The loss is :1.6913 and the validation accuracy is : 0.333600\n",
      "Epoch 15, CIFAR-10 Batch 2:  The loss is :1.6459 and the validation accuracy is : 0.334400\n",
      "Epoch 15, CIFAR-10 Batch 3:  The loss is :1.7212 and the validation accuracy is : 0.335000\n",
      "Epoch 15, CIFAR-10 Batch 4:  The loss is :1.9197 and the validation accuracy is : 0.344600\n",
      "Epoch 15, CIFAR-10 Batch 5:  The loss is :1.8267 and the validation accuracy is : 0.333200\n",
      "Epoch 16, CIFAR-10 Batch 1:  The loss is :1.6900 and the validation accuracy is : 0.336000\n",
      "Epoch 16, CIFAR-10 Batch 2:  The loss is :1.6651 and the validation accuracy is : 0.331600\n",
      "Epoch 16, CIFAR-10 Batch 3:  The loss is :1.7174 and the validation accuracy is : 0.336800\n",
      "Epoch 16, CIFAR-10 Batch 4:  The loss is :1.9236 and the validation accuracy is : 0.347200\n",
      "Epoch 16, CIFAR-10 Batch 5:  The loss is :1.8157 and the validation accuracy is : 0.341000\n",
      "Epoch 17, CIFAR-10 Batch 1:  The loss is :1.6716 and the validation accuracy is : 0.336000\n",
      "Epoch 17, CIFAR-10 Batch 2:  The loss is :1.6261 and the validation accuracy is : 0.338400\n",
      "Epoch 17, CIFAR-10 Batch 3:  The loss is :1.7296 and the validation accuracy is : 0.337400\n",
      "Epoch 17, CIFAR-10 Batch 4:  The loss is :1.9109 and the validation accuracy is : 0.343600\n",
      "Epoch 17, CIFAR-10 Batch 5:  The loss is :1.8292 and the validation accuracy is : 0.339600\n",
      "Epoch 18, CIFAR-10 Batch 1:  The loss is :1.6641 and the validation accuracy is : 0.332000\n",
      "Epoch 18, CIFAR-10 Batch 2:  The loss is :1.6207 and the validation accuracy is : 0.340800\n",
      "Epoch 18, CIFAR-10 Batch 3:  The loss is :1.7242 and the validation accuracy is : 0.334600\n",
      "Epoch 18, CIFAR-10 Batch 4:  The loss is :1.9119 and the validation accuracy is : 0.342000\n"
     ]
    },
    {
     "name": "stdout",
     "output_type": "stream",
     "text": [
      "Epoch 18, CIFAR-10 Batch 5:  The loss is :1.8255 and the validation accuracy is : 0.337800\n",
      "Epoch 19, CIFAR-10 Batch 1:  The loss is :1.6810 and the validation accuracy is : 0.335400\n",
      "Epoch 19, CIFAR-10 Batch 2:  The loss is :1.6138 and the validation accuracy is : 0.334600\n",
      "Epoch 19, CIFAR-10 Batch 3:  The loss is :1.6677 and the validation accuracy is : 0.341200\n",
      "Epoch 19, CIFAR-10 Batch 4:  The loss is :1.9082 and the validation accuracy is : 0.342000\n",
      "Epoch 19, CIFAR-10 Batch 5:  The loss is :1.8049 and the validation accuracy is : 0.345600\n",
      "Epoch 20, CIFAR-10 Batch 1:  The loss is :1.6655 and the validation accuracy is : 0.328400\n",
      "Epoch 20, CIFAR-10 Batch 2:  The loss is :1.5969 and the validation accuracy is : 0.340800\n",
      "Epoch 20, CIFAR-10 Batch 3:  The loss is :1.6933 and the validation accuracy is : 0.329600\n",
      "Epoch 20, CIFAR-10 Batch 4:  The loss is :1.9037 and the validation accuracy is : 0.345200\n",
      "Epoch 20, CIFAR-10 Batch 5:  The loss is :1.8223 and the validation accuracy is : 0.341600\n",
      "Epoch 21, CIFAR-10 Batch 1:  The loss is :1.6629 and the validation accuracy is : 0.334200\n",
      "Epoch 21, CIFAR-10 Batch 2:  The loss is :1.6000 and the validation accuracy is : 0.339800\n",
      "Epoch 21, CIFAR-10 Batch 3:  The loss is :1.6758 and the validation accuracy is : 0.343400\n",
      "Epoch 21, CIFAR-10 Batch 4:  The loss is :1.9080 and the validation accuracy is : 0.339000\n",
      "Epoch 21, CIFAR-10 Batch 5:  The loss is :1.8164 and the validation accuracy is : 0.347600\n",
      "Epoch 22, CIFAR-10 Batch 1:  The loss is :1.6682 and the validation accuracy is : 0.334200\n",
      "Epoch 22, CIFAR-10 Batch 2:  The loss is :1.5936 and the validation accuracy is : 0.345800\n",
      "Epoch 22, CIFAR-10 Batch 3:  The loss is :1.6728 and the validation accuracy is : 0.339400\n",
      "Epoch 22, CIFAR-10 Batch 4:  The loss is :1.9164 and the validation accuracy is : 0.341800\n",
      "Epoch 22, CIFAR-10 Batch 5:  The loss is :1.8237 and the validation accuracy is : 0.342200\n",
      "Epoch 23, CIFAR-10 Batch 1:  The loss is :1.6730 and the validation accuracy is : 0.327200\n",
      "Epoch 23, CIFAR-10 Batch 2:  The loss is :1.6039 and the validation accuracy is : 0.344000\n",
      "Epoch 23, CIFAR-10 Batch 3:  The loss is :1.6744 and the validation accuracy is : 0.331800\n",
      "Epoch 23, CIFAR-10 Batch 4:  The loss is :1.8997 and the validation accuracy is : 0.338600\n",
      "Epoch 23, CIFAR-10 Batch 5:  The loss is :1.8051 and the validation accuracy is : 0.346000\n",
      "Epoch 24, CIFAR-10 Batch 1:  The loss is :1.6660 and the validation accuracy is : 0.336400\n",
      "Epoch 24, CIFAR-10 Batch 2:  The loss is :1.5888 and the validation accuracy is : 0.348000\n",
      "Epoch 24, CIFAR-10 Batch 3:  The loss is :1.6756 and the validation accuracy is : 0.330800\n",
      "Epoch 24, CIFAR-10 Batch 4:  The loss is :1.9076 and the validation accuracy is : 0.341400\n",
      "Epoch 24, CIFAR-10 Batch 5:  The loss is :1.8120 and the validation accuracy is : 0.347600\n",
      "Epoch 25, CIFAR-10 Batch 1:  The loss is :1.6559 and the validation accuracy is : 0.333200\n",
      "Epoch 25, CIFAR-10 Batch 2:  The loss is :1.5902 and the validation accuracy is : 0.345000\n",
      "Epoch 25, CIFAR-10 Batch 3:  The loss is :1.6819 and the validation accuracy is : 0.331200\n",
      "Epoch 25, CIFAR-10 Batch 4:  The loss is :1.9002 and the validation accuracy is : 0.338200\n",
      "Epoch 25, CIFAR-10 Batch 5:  The loss is :1.8123 and the validation accuracy is : 0.341400\n",
      "Epoch 26, CIFAR-10 Batch 1:  The loss is :1.6539 and the validation accuracy is : 0.337200\n",
      "Epoch 26, CIFAR-10 Batch 2:  The loss is :1.5877 and the validation accuracy is : 0.347200\n",
      "Epoch 26, CIFAR-10 Batch 3:  The loss is :1.6718 and the validation accuracy is : 0.332000\n",
      "Epoch 26, CIFAR-10 Batch 4:  The loss is :1.9037 and the validation accuracy is : 0.332400\n",
      "Epoch 26, CIFAR-10 Batch 5:  The loss is :1.8055 and the validation accuracy is : 0.344000\n",
      "Epoch 27, CIFAR-10 Batch 1:  The loss is :1.6593 and the validation accuracy is : 0.334200\n",
      "Epoch 27, CIFAR-10 Batch 2:  The loss is :1.5844 and the validation accuracy is : 0.348200\n",
      "Epoch 27, CIFAR-10 Batch 3:  The loss is :1.6721 and the validation accuracy is : 0.322600\n",
      "Epoch 27, CIFAR-10 Batch 4:  The loss is :1.9007 and the validation accuracy is : 0.327800\n",
      "Epoch 27, CIFAR-10 Batch 5:  The loss is :1.8226 and the validation accuracy is : 0.340800\n",
      "Epoch 28, CIFAR-10 Batch 1:  The loss is :1.6428 and the validation accuracy is : 0.342000\n",
      "Epoch 28, CIFAR-10 Batch 2:  The loss is :1.5733 and the validation accuracy is : 0.345200\n",
      "Epoch 28, CIFAR-10 Batch 3:  The loss is :1.6766 and the validation accuracy is : 0.329400\n",
      "Epoch 28, CIFAR-10 Batch 4:  The loss is :1.9145 and the validation accuracy is : 0.320800\n",
      "Epoch 28, CIFAR-10 Batch 5:  The loss is :1.7960 and the validation accuracy is : 0.351000\n",
      "Epoch 29, CIFAR-10 Batch 1:  The loss is :1.6434 and the validation accuracy is : 0.341600\n",
      "Epoch 29, CIFAR-10 Batch 2:  The loss is :1.5764 and the validation accuracy is : 0.347400\n",
      "Epoch 29, CIFAR-10 Batch 3:  The loss is :1.6632 and the validation accuracy is : 0.335600\n",
      "Epoch 29, CIFAR-10 Batch 4:  The loss is :1.9042 and the validation accuracy is : 0.324000\n",
      "Epoch 29, CIFAR-10 Batch 5:  The loss is :1.7964 and the validation accuracy is : 0.347000\n",
      "Epoch 30, CIFAR-10 Batch 1:  The loss is :1.6456 and the validation accuracy is : 0.338600\n",
      "Epoch 30, CIFAR-10 Batch 2:  The loss is :1.5751 and the validation accuracy is : 0.349800\n",
      "Epoch 30, CIFAR-10 Batch 3:  The loss is :1.6540 and the validation accuracy is : 0.333200\n",
      "Epoch 30, CIFAR-10 Batch 4:  The loss is :1.8951 and the validation accuracy is : 0.326000\n",
      "Epoch 30, CIFAR-10 Batch 5:  The loss is :1.8033 and the validation accuracy is : 0.344200\n",
      "Epoch 31, CIFAR-10 Batch 1:  The loss is :1.6320 and the validation accuracy is : 0.342600\n",
      "Epoch 31, CIFAR-10 Batch 2:  The loss is :1.5697 and the validation accuracy is : 0.345200\n",
      "Epoch 31, CIFAR-10 Batch 3:  The loss is :1.6589 and the validation accuracy is : 0.338200\n",
      "Epoch 31, CIFAR-10 Batch 4:  The loss is :1.8845 and the validation accuracy is : 0.321800\n",
      "Epoch 31, CIFAR-10 Batch 5:  The loss is :1.7957 and the validation accuracy is : 0.341200\n",
      "Epoch 32, CIFAR-10 Batch 1:  The loss is :1.6289 and the validation accuracy is : 0.347800\n",
      "Epoch 32, CIFAR-10 Batch 2:  The loss is :1.5861 and the validation accuracy is : 0.343000\n",
      "Epoch 32, CIFAR-10 Batch 3:  The loss is :1.6433 and the validation accuracy is : 0.346400\n",
      "Epoch 32, CIFAR-10 Batch 4:  The loss is :1.8957 and the validation accuracy is : 0.317800\n",
      "Epoch 32, CIFAR-10 Batch 5:  The loss is :1.8007 and the validation accuracy is : 0.342800\n",
      "Epoch 33, CIFAR-10 Batch 1:  The loss is :1.6359 and the validation accuracy is : 0.340400\n",
      "Epoch 33, CIFAR-10 Batch 2:  The loss is :1.5701 and the validation accuracy is : 0.345800\n",
      "Epoch 33, CIFAR-10 Batch 3:  The loss is :1.6487 and the validation accuracy is : 0.341000\n",
      "Epoch 33, CIFAR-10 Batch 4:  The loss is :1.8881 and the validation accuracy is : 0.323200\n",
      "Epoch 33, CIFAR-10 Batch 5:  The loss is :1.7848 and the validation accuracy is : 0.351000\n",
      "Epoch 34, CIFAR-10 Batch 1:  The loss is :1.6242 and the validation accuracy is : 0.344600\n",
      "Epoch 34, CIFAR-10 Batch 2:  The loss is :1.5650 and the validation accuracy is : 0.343200\n",
      "Epoch 34, CIFAR-10 Batch 3:  The loss is :1.6522 and the validation accuracy is : 0.336600\n",
      "Epoch 34, CIFAR-10 Batch 4:  The loss is :1.8750 and the validation accuracy is : 0.330400\n",
      "Epoch 34, CIFAR-10 Batch 5:  The loss is :1.7877 and the validation accuracy is : 0.343400\n",
      "Epoch 35, CIFAR-10 Batch 1:  The loss is :1.6222 and the validation accuracy is : 0.345400\n",
      "Epoch 35, CIFAR-10 Batch 2:  The loss is :1.5626 and the validation accuracy is : 0.344400\n",
      "Epoch 35, CIFAR-10 Batch 3:  The loss is :1.6495 and the validation accuracy is : 0.340600\n",
      "Epoch 35, CIFAR-10 Batch 4:  The loss is :1.8962 and the validation accuracy is : 0.318000\n",
      "Epoch 35, CIFAR-10 Batch 5:  The loss is :1.7860 and the validation accuracy is : 0.346600\n",
      "Epoch 36, CIFAR-10 Batch 1:  The loss is :1.6293 and the validation accuracy is : 0.346400\n",
      "Epoch 36, CIFAR-10 Batch 2:  The loss is :1.5555 and the validation accuracy is : 0.348400\n",
      "Epoch 36, CIFAR-10 Batch 3:  The loss is :1.6470 and the validation accuracy is : 0.343800\n",
      "Epoch 36, CIFAR-10 Batch 4:  The loss is :1.8781 and the validation accuracy is : 0.325600\n"
     ]
    },
    {
     "name": "stdout",
     "output_type": "stream",
     "text": [
      "Epoch 36, CIFAR-10 Batch 5:  The loss is :1.7878 and the validation accuracy is : 0.344200\n",
      "Epoch 37, CIFAR-10 Batch 1:  The loss is :1.6219 and the validation accuracy is : 0.344200\n",
      "Epoch 37, CIFAR-10 Batch 2:  The loss is :1.5594 and the validation accuracy is : 0.347000\n",
      "Epoch 37, CIFAR-10 Batch 3:  The loss is :1.6511 and the validation accuracy is : 0.342200\n",
      "Epoch 37, CIFAR-10 Batch 4:  The loss is :1.8826 and the validation accuracy is : 0.317600\n",
      "Epoch 37, CIFAR-10 Batch 5:  The loss is :1.8036 and the validation accuracy is : 0.341200\n",
      "Epoch 38, CIFAR-10 Batch 1:  The loss is :1.6216 and the validation accuracy is : 0.338200\n",
      "Epoch 38, CIFAR-10 Batch 2:  The loss is :1.5598 and the validation accuracy is : 0.343200\n",
      "Epoch 38, CIFAR-10 Batch 3:  The loss is :1.6322 and the validation accuracy is : 0.342600\n",
      "Epoch 38, CIFAR-10 Batch 4:  The loss is :1.8730 and the validation accuracy is : 0.322600\n",
      "Epoch 38, CIFAR-10 Batch 5:  The loss is :1.7973 and the validation accuracy is : 0.338600\n",
      "Epoch 39, CIFAR-10 Batch 1:  The loss is :1.6242 and the validation accuracy is : 0.340400\n",
      "Epoch 39, CIFAR-10 Batch 2:  The loss is :1.5556 and the validation accuracy is : 0.345200\n",
      "Epoch 39, CIFAR-10 Batch 3:  The loss is :1.6413 and the validation accuracy is : 0.342600\n",
      "Epoch 39, CIFAR-10 Batch 4:  The loss is :1.8717 and the validation accuracy is : 0.320800\n",
      "Epoch 39, CIFAR-10 Batch 5:  The loss is :1.7817 and the validation accuracy is : 0.342000\n",
      "Epoch 40, CIFAR-10 Batch 1:  The loss is :1.6231 and the validation accuracy is : 0.344000\n",
      "Epoch 40, CIFAR-10 Batch 2:  The loss is :1.5621 and the validation accuracy is : 0.342600\n",
      "Epoch 40, CIFAR-10 Batch 3:  The loss is :1.6312 and the validation accuracy is : 0.339800\n",
      "Epoch 40, CIFAR-10 Batch 4:  The loss is :1.8815 and the validation accuracy is : 0.317200\n",
      "Epoch 40, CIFAR-10 Batch 5:  The loss is :1.7942 and the validation accuracy is : 0.341800\n",
      "Epoch 41, CIFAR-10 Batch 1:  The loss is :1.6127 and the validation accuracy is : 0.346200\n",
      "Epoch 41, CIFAR-10 Batch 2:  The loss is :1.5517 and the validation accuracy is : 0.348000\n",
      "Epoch 41, CIFAR-10 Batch 3:  The loss is :1.6328 and the validation accuracy is : 0.342400\n",
      "Epoch 41, CIFAR-10 Batch 4:  The loss is :1.8688 and the validation accuracy is : 0.318200\n",
      "Epoch 41, CIFAR-10 Batch 5:  The loss is :1.8081 and the validation accuracy is : 0.324200\n",
      "Epoch 42, CIFAR-10 Batch 1:  The loss is :1.6219 and the validation accuracy is : 0.342400\n",
      "Epoch 42, CIFAR-10 Batch 2:  The loss is :1.5509 and the validation accuracy is : 0.344200\n",
      "Epoch 42, CIFAR-10 Batch 3:  The loss is :1.6359 and the validation accuracy is : 0.339400\n",
      "Epoch 42, CIFAR-10 Batch 4:  The loss is :1.8739 and the validation accuracy is : 0.312400\n",
      "Epoch 42, CIFAR-10 Batch 5:  The loss is :1.8103 and the validation accuracy is : 0.330600\n",
      "Epoch 43, CIFAR-10 Batch 1:  The loss is :1.6276 and the validation accuracy is : 0.336800\n",
      "Epoch 43, CIFAR-10 Batch 2:  The loss is :1.5542 and the validation accuracy is : 0.346800\n",
      "Epoch 43, CIFAR-10 Batch 3:  The loss is :1.6312 and the validation accuracy is : 0.344600\n",
      "Epoch 43, CIFAR-10 Batch 4:  The loss is :1.8938 and the validation accuracy is : 0.309000\n",
      "Epoch 43, CIFAR-10 Batch 5:  The loss is :1.7987 and the validation accuracy is : 0.331200\n",
      "Epoch 44, CIFAR-10 Batch 1:  The loss is :1.6223 and the validation accuracy is : 0.338400\n",
      "Epoch 44, CIFAR-10 Batch 2:  The loss is :1.5464 and the validation accuracy is : 0.344000\n",
      "Epoch 44, CIFAR-10 Batch 3:  The loss is :1.6317 and the validation accuracy is : 0.340000\n",
      "Epoch 44, CIFAR-10 Batch 4:  The loss is :1.8895 and the validation accuracy is : 0.311600\n",
      "Epoch 44, CIFAR-10 Batch 5:  The loss is :1.7935 and the validation accuracy is : 0.335200\n",
      "Epoch 45, CIFAR-10 Batch 1:  The loss is :1.6246 and the validation accuracy is : 0.329800\n",
      "Epoch 45, CIFAR-10 Batch 2:  The loss is :1.5606 and the validation accuracy is : 0.342200\n",
      "Epoch 45, CIFAR-10 Batch 3:  The loss is :1.6414 and the validation accuracy is : 0.341200\n",
      "Epoch 45, CIFAR-10 Batch 4:  The loss is :1.8816 and the validation accuracy is : 0.312800\n",
      "Epoch 45, CIFAR-10 Batch 5:  The loss is :1.7906 and the validation accuracy is : 0.337000\n",
      "Epoch 46, CIFAR-10 Batch 1:  The loss is :1.6300 and the validation accuracy is : 0.321000\n",
      "Epoch 46, CIFAR-10 Batch 2:  The loss is :1.5550 and the validation accuracy is : 0.343000\n",
      "Epoch 46, CIFAR-10 Batch 3:  The loss is :1.6520 and the validation accuracy is : 0.340600\n",
      "Epoch 46, CIFAR-10 Batch 4:  The loss is :1.8763 and the validation accuracy is : 0.324200\n",
      "Epoch 46, CIFAR-10 Batch 5:  The loss is :1.7978 and the validation accuracy is : 0.333400\n",
      "Epoch 47, CIFAR-10 Batch 1:  The loss is :1.6229 and the validation accuracy is : 0.325800\n",
      "Epoch 47, CIFAR-10 Batch 2:  The loss is :1.5545 and the validation accuracy is : 0.345200\n",
      "Epoch 47, CIFAR-10 Batch 3:  The loss is :1.6574 and the validation accuracy is : 0.334200\n",
      "Epoch 47, CIFAR-10 Batch 4:  The loss is :1.8796 and the validation accuracy is : 0.317800\n",
      "Epoch 47, CIFAR-10 Batch 5:  The loss is :1.7874 and the validation accuracy is : 0.335400\n",
      "Epoch 48, CIFAR-10 Batch 1:  The loss is :1.6269 and the validation accuracy is : 0.331400\n",
      "Epoch 48, CIFAR-10 Batch 2:  The loss is :1.5559 and the validation accuracy is : 0.342400\n",
      "Epoch 48, CIFAR-10 Batch 3:  The loss is :1.6740 and the validation accuracy is : 0.333400\n",
      "Epoch 48, CIFAR-10 Batch 4:  The loss is :1.8773 and the validation accuracy is : 0.316800\n",
      "Epoch 48, CIFAR-10 Batch 5:  The loss is :1.7852 and the validation accuracy is : 0.342200\n",
      "Epoch 49, CIFAR-10 Batch 1:  The loss is :1.6207 and the validation accuracy is : 0.335200\n",
      "Epoch 49, CIFAR-10 Batch 2:  The loss is :1.5755 and the validation accuracy is : 0.336000\n",
      "Epoch 49, CIFAR-10 Batch 3:  The loss is :1.6495 and the validation accuracy is : 0.331000\n",
      "Epoch 49, CIFAR-10 Batch 4:  The loss is :1.8673 and the validation accuracy is : 0.321200\n",
      "Epoch 49, CIFAR-10 Batch 5:  The loss is :1.7795 and the validation accuracy is : 0.343400\n",
      "Epoch 50, CIFAR-10 Batch 1:  The loss is :1.6399 and the validation accuracy is : 0.327200\n",
      "Epoch 50, CIFAR-10 Batch 2:  The loss is :1.5624 and the validation accuracy is : 0.339000\n",
      "Epoch 50, CIFAR-10 Batch 3:  The loss is :1.6403 and the validation accuracy is : 0.337400\n",
      "Epoch 50, CIFAR-10 Batch 4:  The loss is :1.8542 and the validation accuracy is : 0.329200\n",
      "Epoch 50, CIFAR-10 Batch 5:  The loss is :1.7900 and the validation accuracy is : 0.338800\n"
     ]
    }
   ],
   "source": [
    "\"\"\"\n",
    "DON'T MODIFY ANYTHING IN THIS CELL\n",
    "\"\"\"\n",
    "save_model_path = './image_classification'\n",
    "\n",
    "print('Training...')\n",
    "with tf.Session() as sess:\n",
    "    # Initializing the variables\n",
    "    sess.run(tf.global_variables_initializer())\n",
    "    \n",
    "    # Training cycle\n",
    "    for epoch in range(epochs):\n",
    "        # Loop over all batches\n",
    "        n_batches = 5\n",
    "        for batch_i in range(1, n_batches + 1):\n",
    "            for batch_features, batch_labels in helper.load_preprocess_training_batch(batch_i, batch_size):\n",
    "                train_neural_network(sess, optimizer, keep_probability, batch_features, batch_labels)\n",
    "            print('Epoch {:>2}, CIFAR-10 Batch {}:  '.format(epoch + 1, batch_i), end='')\n",
    "            print_stats(sess, batch_features, batch_labels, cost, accuracy)\n",
    "            \n",
    "    # Save Model\n",
    "    saver = tf.train.Saver()\n",
    "    save_path = saver.save(sess, save_model_path)"
   ]
  },
  {
   "cell_type": "markdown",
   "metadata": {},
   "source": [
    "# Checkpoint\n",
    "The model has been saved to disk.\n",
    "## Test Model\n",
    "Test your model against the test dataset.  This will be your final accuracy. You should have an accuracy greater than 50%. If you don't, keep tweaking the model architecture and parameters."
   ]
  },
  {
   "cell_type": "code",
   "execution_count": 30,
   "metadata": {},
   "outputs": [
    {
     "name": "stderr",
     "output_type": "stream",
     "text": [
      "W0830 23:03:59.853231 15568 deprecation.py:323] From C:\\Users\\naman\\Anaconda3\\lib\\site-packages\\tensorflow\\python\\training\\saver.py:1276: checkpoint_exists (from tensorflow.python.training.checkpoint_management) is deprecated and will be removed in a future version.\n",
      "Instructions for updating:\n",
      "Use standard file APIs to check for files with this prefix.\n"
     ]
    },
    {
     "name": "stdout",
     "output_type": "stream",
     "text": [
      "Testing Accuracy: 0.33134765625\n",
      "\n"
     ]
    },
    {
     "data": {
      "image/png": "[encoded data removed]",
      "text/plain": [
       "<Figure size 432x288 with 8 Axes>"
      ]
     },
     "metadata": {
      "image/png": {
       "height": 319,
       "width": 355
      },
      "needs_background": "light"
     },
     "output_type": "display_data"
    }
   ],
   "source": [
    "\"\"\"\n",
    "DON'T MODIFY ANYTHING IN THIS CELL\n",
    "\"\"\"\n",
    "%matplotlib inline\n",
    "%config InlineBackend.figure_format = 'retina'\n",
    "\n",
    "import tensorflow as tf\n",
    "import pickle\n",
    "import helper\n",
    "import random\n",
    "\n",
    "# Set batch size if not already set\n",
    "try:\n",
    "    if batch_size:\n",
    "        pass\n",
    "except NameError:\n",
    "    batch_size = 64\n",
    "\n",
    "save_model_path = './image_classification'\n",
    "n_samples = 4\n",
    "top_n_predictions = 3\n",
    "\n",
    "def test_model():\n",
    "    \"\"\"\n",
    "    Test the saved model against the test dataset\n",
    "    \"\"\"\n",
    "\n",
    "    test_features, test_labels = pickle.load(open('preprocess_training.p', mode='rb'))\n",
    "    loaded_graph = tf.Graph()\n",
    "\n",
    "    with tf.Session(graph=loaded_graph) as sess:\n",
    "        # Load model\n",
    "        loader = tf.train.import_meta_graph(save_model_path + '.meta')\n",
    "        loader.restore(sess, save_model_path)\n",
    "\n",
    "        # Get Tensors from loaded model\n",
    "        loaded_x = loaded_graph.get_tensor_by_name('x:0')\n",
    "        loaded_y = loaded_graph.get_tensor_by_name('y:0')\n",
    "        loaded_keep_prob = loaded_graph.get_tensor_by_name('keep_prob:0')\n",
    "        loaded_logits = loaded_graph.get_tensor_by_name('logits:0')\n",
    "        loaded_acc = loaded_graph.get_tensor_by_name('accuracy:0')\n",
    "        \n",
    "        # Get accuracy in batches for memory limitations\n",
    "        test_batch_acc_total = 0\n",
    "        test_batch_count = 0\n",
    "        \n",
    "        for train_feature_batch, train_label_batch in helper.batch_features_labels(test_features, test_labels, batch_size):\n",
    "            test_batch_acc_total += sess.run(\n",
    "                loaded_acc,\n",
    "                feed_dict={loaded_x: train_feature_batch, loaded_y: train_label_batch, loaded_keep_prob: 1.0})\n",
    "            test_batch_count += 1\n",
    "\n",
    "        print('Testing Accuracy: {}\\n'.format(test_batch_acc_total/test_batch_count))\n",
    "\n",
    "        # Print Random Samples\n",
    "        random_test_features, random_test_labels = tuple(zip(*random.sample(list(zip(test_features, test_labels)), n_samples)))\n",
    "        random_test_predictions = sess.run(\n",
    "            tf.nn.top_k(tf.nn.softmax(loaded_logits), top_n_predictions),\n",
    "            feed_dict={loaded_x: random_test_features, loaded_y: random_test_labels, loaded_keep_prob: 1.0})\n",
    "        helper.display_image_predictions(random_test_features, random_test_labels, random_test_predictions)\n",
    "\n",
    "\n",
    "test_model()"
   ]
  },
  {
   "cell_type": "markdown",
   "metadata": {},
   "source": [
    "## Why 50-80% Accuracy?\n",
    "You might be wondering why you can't get an accuracy any higher. First things first, 50% isn't bad for a simple CNN.  Pure guessing would get you 10% accuracy. That's because there are many more techniques that can be applied to your model and we recemmond that once you are done with this project, you explore!\n",
    "\n",
    "## Submitting This Project\n",
    "When submitting this project, make sure to run all the cells before saving the notebook.  Save the notebook file as \"image_classification.ipynb\" and save it as a HTML file under \"File\" -> \"Download as\".  Include the \"helper.py\" and \"problem_unittests.py\" files in your submission."
   ]
  }
 ],
 "metadata": {
  "kernelspec": {
   "display_name": "Python 3",
   "language": "python",
   "name": "python3"
  },
  "language_info": {
   "codemirror_mode": {
    "name": "ipython",
    "version": 3
   },
   "file_extension": ".py",
   "mimetype": "text/x-python",
   "name": "python",
   "nbconvert_exporter": "python",
   "pygments_lexer": "ipython3",
   "version": "3.7.3"
  }
 },
 "nbformat": 4,
 "nbformat_minor": 1
}
